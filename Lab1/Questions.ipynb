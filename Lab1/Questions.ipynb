{
 "cells": [
  {
   "cell_type": "code",
   "execution_count": 1,
   "metadata": {},
   "outputs": [
    {
     "name": "stdout",
     "output_type": "stream",
     "text": [
      "   TransactionID TransactionDate  UserID  ProductID  Quantity\n",
      "0              1      2010-08-21     7.0          2         1\n",
      "1              2      2011-05-26     3.0          4         1\n",
      "2              3      2011-06-16     3.0          3         1\n",
      "3              4      2012-08-26     1.0          2         3\n",
      "4              5      2013-06-06     2.0          4         1\n",
      "5              6      2013-12-23     2.0          5         6\n",
      "6              7      2013-12-30     3.0          4         1\n",
      "7              8      2014-04-24     NaN          2         3\n",
      "8              9      2015-04-24     7.0          4         3\n",
      "9             10      2016-05-08     3.0          4         4\n"
     ]
    }
   ],
   "source": [
    "import pandas as pd\n",
    "\n",
    "# Read the transaction data from a CSV file\n",
    "\n",
    "df = pd.read_csv('transactions.csv')\n",
    "\n",
    "# Print the first 5 rows of the data\n",
    "\n",
    "print(df.head(10))"
   ]
  },
  {
   "cell_type": "markdown",
   "metadata": {},
   "source": [
    "# 1. Print Summary of transaction data set "
   ]
  },
  {
   "cell_type": "code",
   "execution_count": 2,
   "metadata": {},
   "outputs": [
    {
     "name": "stdout",
     "output_type": "stream",
     "text": [
      "       TransactionID    UserID  ProductID   Quantity\n",
      "count       10.00000  9.000000  10.000000  10.000000\n",
      "mean         5.50000  3.444444   3.400000   2.400000\n",
      "std          3.02765  2.127858   1.074968   1.712698\n",
      "min          1.00000  1.000000   2.000000   1.000000\n",
      "25%          3.25000  2.000000   2.250000   1.000000\n",
      "50%          5.50000  3.000000   4.000000   2.000000\n",
      "75%          7.75000  3.000000   4.000000   3.000000\n",
      "max         10.00000  7.000000   5.000000   6.000000\n"
     ]
    }
   ],
   "source": [
    "print(df.describe())"
   ]
  },
  {
   "cell_type": "markdown",
   "metadata": {},
   "source": [
    "# 2. Print Numbers of Attributes"
   ]
  },
  {
   "cell_type": "code",
   "execution_count": 11,
   "metadata": {},
   "outputs": [
    {
     "name": "stdout",
     "output_type": "stream",
     "text": [
      "5\n"
     ]
    }
   ],
   "source": [
    "#print all the attributes length\n",
    "\n",
    "print(len(df.columns))"
   ]
  },
  {
   "cell_type": "markdown",
   "metadata": {},
   "source": [
    "# 3. Print Numbers of Records "
   ]
  },
  {
   "cell_type": "code",
   "execution_count": 15,
   "metadata": {},
   "outputs": [
    {
     "name": "stdout",
     "output_type": "stream",
     "text": [
      "10\n"
     ]
    }
   ],
   "source": [
    "print(len(df))"
   ]
  },
  {
   "cell_type": "markdown",
   "metadata": {},
   "source": [
    "# 4. Get the row names"
   ]
  },
  {
   "cell_type": "code",
   "execution_count": 7,
   "metadata": {},
   "outputs": [
    {
     "name": "stdout",
     "output_type": "stream",
     "text": [
      "TransactionID               4\n",
      "TransactionDate    2012-08-26\n",
      "UserID                    1.0\n",
      "ProductID                   2\n",
      "Quantity                    3\n",
      "Name: 3, dtype: object\n"
     ]
    }
   ],
   "source": [
    "print(df.iloc[3])"
   ]
  },
  {
   "cell_type": "markdown",
   "metadata": {},
   "source": [
    "# 5. Get the column names "
   ]
  },
  {
   "cell_type": "code",
   "execution_count": 6,
   "metadata": {},
   "outputs": [
    {
     "name": "stdout",
     "output_type": "stream",
     "text": [
      "Index(['TransactionID', 'TransactionDate', 'UserID', 'ProductID', 'Quantity'], dtype='object')\n",
      "ProductID\n"
     ]
    }
   ],
   "source": [
    "print(df.columns)\n",
    "print(df.columns[3])"
   ]
  },
  {
   "cell_type": "markdown",
   "metadata": {},
   "source": [
    "# 6. View top 10 Records "
   ]
  },
  {
   "cell_type": "code",
   "execution_count": 21,
   "metadata": {},
   "outputs": [
    {
     "name": "stdout",
     "output_type": "stream",
     "text": [
      "   TransactionID TransactionDate  UserID  ProductID  Quantity\n",
      "0              1      2010-08-21     7.0          2         1\n",
      "1              2      2011-05-26     3.0          4         1\n",
      "2              3      2011-06-16     3.0          3         1\n",
      "3              4      2012-08-26     1.0          2         3\n",
      "4              5      2013-06-06     2.0          4         1\n",
      "5              6      2013-12-23     2.0          5         6\n",
      "6              7      2013-12-30     3.0          4         1\n",
      "7              8      2014-04-24     NaN          2         3\n",
      "8              9      2015-04-24     7.0          4         3\n",
      "9             10      2016-05-08     3.0          4         4\n"
     ]
    }
   ],
   "source": [
    "print(df.head(10))"
   ]
  },
  {
   "cell_type": "markdown",
   "metadata": {},
   "source": [
    "# 7.Change the name of column “ Quantity” to “Quant”"
   ]
  },
  {
   "cell_type": "code",
   "execution_count": 8,
   "metadata": {},
   "outputs": [
    {
     "name": "stdout",
     "output_type": "stream",
     "text": [
      "   TransactionID TransactionDate  UserID  ProductID  Quant\n",
      "0              1      2010-08-21     7.0          2      1\n",
      "1              2      2011-05-26     3.0          4      1\n",
      "2              3      2011-06-16     3.0          3      1\n",
      "3              4      2012-08-26     1.0          2      3\n",
      "4              5      2013-06-06     2.0          4      1\n",
      "5              6      2013-12-23     2.0          5      6\n",
      "6              7      2013-12-30     3.0          4      1\n",
      "7              8      2014-04-24     NaN          2      3\n",
      "8              9      2015-04-24     7.0          4      3\n",
      "9             10      2016-05-08     3.0          4      4\n"
     ]
    }
   ],
   "source": [
    "df.rename(columns={'Quantity':'Quant'}, inplace=True)\n",
    "print(df)"
   ]
  },
  {
   "cell_type": "markdown",
   "metadata": {},
   "source": [
    "# 8.Change the name of columns ProductID and UserID"
   ]
  },
  {
   "cell_type": "code",
   "execution_count": 29,
   "metadata": {},
   "outputs": [
    {
     "name": "stdout",
     "output_type": "stream",
     "text": [
      "   PID         UID  Product  Price  Quantity\n",
      "0    1  2010-08-21      7.0      2         1\n",
      "1    2  2011-05-26      3.0      4         1\n",
      "2    3  2011-06-16      3.0      3         1\n",
      "3    4  2012-08-26      1.0      2         3\n",
      "4    5  2013-06-06      2.0      4         1\n",
      "5    6  2013-12-23      2.0      5         6\n",
      "6    7  2013-12-30      3.0      4         1\n",
      "7    8  2014-04-24      NaN      2         3\n",
      "8    9  2015-04-24      7.0      4         3\n",
      "9   10  2016-05-08      3.0      4         4\n"
     ]
    }
   ],
   "source": [
    "#Change the name of columns ProductID and UserID to PID and UID respectively\n",
    "df.columns = ['PID', 'UID', 'Product', 'Price', 'Quantity']\n",
    "\n",
    "print(df)"
   ]
  },
  {
   "cell_type": "code",
   "execution_count": 12,
   "metadata": {},
   "outputs": [
    {
     "name": "stdout",
     "output_type": "stream",
     "text": [
      "   TransactionID TransactionDate  UserID  ProductID  Quant\n",
      "0              1      2010-08-21     7.0          2      1\n",
      "1              2      2011-05-26     3.0          4      1\n",
      "2              3      2011-06-16     3.0          3      1\n",
      "3              4      2012-08-26     1.0          2      3\n",
      "4              5      2013-06-06     2.0          4      1\n",
      "5              6      2013-12-23     2.0          5      6\n",
      "6              7      2013-12-30     3.0          4      1\n",
      "7              8      2014-04-24     NaN          2      3\n",
      "8              9      2015-04-24     7.0          4      3\n",
      "9             10      2016-05-08     3.0          4      4\n"
     ]
    }
   ],
   "source": [
    "# 9. Order the rows of transactions by TransactionId\n",
    "\n",
    "sorted = df.sort_values(by='TransactionID',ascending=True)\n",
    "print(sorted)"
   ]
  },
  {
   "cell_type": "code",
   "execution_count": 13,
   "metadata": {},
   "outputs": [
    {
     "name": "stdout",
     "output_type": "stream",
     "text": [
      "   TransactionID TransactionDate  UserID  ProductID  Quant\n",
      "6              7      2013-12-30     3.0          4      1\n",
      "4              5      2013-06-06     2.0          4      1\n",
      "2              3      2011-06-16     3.0          3      1\n",
      "1              2      2011-05-26     3.0          4      1\n",
      "0              1      2010-08-21     7.0          2      1\n",
      "8              9      2015-04-24     7.0          4      3\n",
      "7              8      2014-04-24     NaN          2      3\n",
      "3              4      2012-08-26     1.0          2      3\n",
      "9             10      2016-05-08     3.0          4      4\n",
      "5              6      2013-12-23     2.0          5      6\n"
     ]
    }
   ],
   "source": [
    "# 10. Order the rows of transactions by Quantity ascending, TransactionDate descending\n",
    "\n",
    "order = df.sort_values(by=[\"Quant\",\"TransactionDate\"], ascending=[True,False])\n",
    "print(order)\n"
   ]
  },
  {
   "cell_type": "code",
   "execution_count": null,
   "metadata": {},
   "outputs": [
    {
     "name": "stdout",
     "output_type": "stream",
     "text": [
      "   ProductID  Quant TransactionDate  TransactionID  UserID\n",
      "0          2      1      2010-08-21              1     7.0\n",
      "1          4      1      2011-05-26              2     3.0\n",
      "2          3      1      2011-06-16              3     3.0\n",
      "3          2      3      2012-08-26              4     1.0\n",
      "4          4      1      2013-06-06              5     2.0\n",
      "5          5      6      2013-12-23              6     2.0\n",
      "6          4      1      2013-12-30              7     3.0\n",
      "7          2      3      2014-04-24              8     NaN\n",
      "8          4      3      2015-04-24              9     7.0\n",
      "9          4      4      2016-05-08             10     3.0\n"
     ]
    }
   ],
   "source": [
    "# 11. Set the column order of Transactions as ProductID, Quantity, TransactionDate, TransactionID, UserID\n",
    "\n",
    "column_order = df[[\"ProductID\",\"Quant\",\"TransactionDate\",\"TransactionID\",\"UserID\"]]\n",
    "print(column_order)  "
   ]
  },
  {
   "cell_type": "code",
   "execution_count": 21,
   "metadata": {},
   "outputs": [
    {
     "name": "stdout",
     "output_type": "stream",
     "text": [
      "   UserID  TransactionID TransactionDate  ProductID  Quant\n",
      "0     7.0              1      2010-08-21          2      1\n",
      "1     3.0              2      2011-05-26          4      1\n",
      "2     3.0              3      2011-06-16          3      1\n",
      "3     1.0              4      2012-08-26          2      3\n",
      "4     2.0              5      2013-06-06          4      1\n",
      "5     2.0              6      2013-12-23          5      6\n",
      "6     3.0              7      2013-12-30          4      1\n",
      "7     NaN              8      2014-04-24          2      3\n",
      "8     7.0              9      2015-04-24          4      3\n",
      "9     3.0             10      2016-05-08          4      4\n"
     ]
    }
   ],
   "source": [
    "# 12. Make UserID the first column of transactions\n",
    "user_id_col = df[[\"UserID\"] + [x for x in df.columns if x != \"UserID\"]]\n",
    "print(user_id_col)"
   ]
  },
  {
   "cell_type": "code",
   "execution_count": 24,
   "metadata": {},
   "outputs": [
    {
     "name": "stdout",
     "output_type": "stream",
     "text": [
      "UserID\n"
     ]
    }
   ],
   "source": [
    "# 13. Extracting arrays from a Data Frame. Get the 2nd column\n",
    "\n",
    "print(df.columns[2])"
   ]
  },
  {
   "cell_type": "code",
   "execution_count": 26,
   "metadata": {},
   "outputs": [
    {
     "name": "stdout",
     "output_type": "stream",
     "text": [
      "[2, 4, 3, 2, 4, 5, 4, 2, 4, 4]\n"
     ]
    }
   ],
   "source": [
    "list_arr = [x for x in df[\"ProductID\"]]\n",
    "print(list_arr)"
   ]
  },
  {
   "cell_type": "code",
   "execution_count": 30,
   "metadata": {},
   "outputs": [
    {
     "name": "stdout",
     "output_type": "stream",
     "text": [
      "   TransactionID TransactionDate  UserID  ProductID  Quant\n",
      "1              2      2011-05-26     3.0          4      1\n",
      "3              4      2012-08-26     1.0          2      3\n",
      "6              7      2013-12-30     3.0          4      1\n"
     ]
    }
   ],
   "source": [
    "# 16.Row subsetting, subset rows 1,3 and 6\n",
    "\n",
    "new_data = df.loc[[1,3,6]]\n",
    "print(new_data)\n"
   ]
  },
  {
   "cell_type": "code",
   "execution_count": 36,
   "metadata": {},
   "outputs": [
    {
     "name": "stdout",
     "output_type": "stream",
     "text": [
      "   TransactionID TransactionDate  UserID  ProductID  Quant\n",
      "0              1      2010-08-21     7.0          2      1\n",
      "1              2      2011-05-26     3.0          4      1\n",
      "2              3      2011-06-16     3.0          3      1\n"
     ]
    }
   ],
   "source": [
    "# 18. Subset the first three rows\n",
    "\n",
    "slicing = df.loc[[x for x in range(3)]]\n",
    "print(slicing)"
   ]
  },
  {
   "cell_type": "code",
   "execution_count": 40,
   "metadata": {},
   "outputs": [
    {
     "name": "stdout",
     "output_type": "stream",
     "text": [
      "   TransactionID TransactionDate  UserID  ProductID  Quant\n",
      "8              9      2015-04-24     7.0          4      3\n",
      "9             10      2016-05-08     3.0          4      4\n"
     ]
    }
   ],
   "source": [
    "# 19. Subset the last 2 rows\n",
    "\n",
    "slicing = df.tail(2)\n",
    "print(slicing)"
   ]
  },
  {
   "cell_type": "code",
   "execution_count": 46,
   "metadata": {},
   "outputs": [
    {
     "name": "stdout",
     "output_type": "stream",
     "text": [
      "   TransactionID TransactionDate  UserID  ProductID  Quant\n",
      "0              1      2010-08-21     7.0          2      1\n",
      "1              2      2011-05-26     3.0          4      1\n",
      "2              3      2011-06-16     3.0          3      1\n",
      "3              4      2012-08-26     1.0          2      3\n",
      "4              5      2013-06-06     2.0          4      1\n",
      "5              6      2013-12-23     2.0          5      6\n",
      "6              7      2013-12-30     3.0          4      1\n",
      "7              8      2014-04-24     NaN          2      3\n"
     ]
    }
   ],
   "source": [
    "# 20. Subset rows excluding the last 2 rows\n",
    "\n",
    "print(df.head(len(df) - 2))"
   ]
  },
  {
   "cell_type": "code",
   "execution_count": 47,
   "metadata": {},
   "outputs": [
    {
     "name": "stdout",
     "output_type": "stream",
     "text": [
      "   TransactionID TransactionDate  UserID  ProductID  Quant\n",
      "0              1      2010-08-21     7.0          2      1\n",
      "1              2      2011-05-26     3.0          4      1\n",
      "2              3      2011-06-16     3.0          3      1\n",
      "3              4      2012-08-26     1.0          2      3\n",
      "4              5      2013-06-06     2.0          4      1\n",
      "5              6      2013-12-23     2.0          5      6\n",
      "6              7      2013-12-30     3.0          4      1\n"
     ]
    }
   ],
   "source": [
    "# 21. Subset rows excluding the first 3 rows\n",
    "print(df.head(len(df) - 3))"
   ]
  },
  {
   "cell_type": "code",
   "execution_count": 56,
   "metadata": {},
   "outputs": [
    {
     "name": "stdout",
     "output_type": "stream",
     "text": [
      "   TransactionID TransactionDate  UserID  ProductID  Quant\n",
      "3              4      2012-08-26     1.0          2      3\n",
      "5              6      2013-12-23     2.0          5      6\n",
      "7              8      2014-04-24     NaN          2      3\n",
      "8              9      2015-04-24     7.0          4      3\n",
      "9             10      2016-05-08     3.0          4      4\n"
     ]
    }
   ],
   "source": [
    "# 22. Subset rows where Quant > 1\n",
    "\n",
    "quanity_greater = df[df['Quant'] > 1]\n",
    "print(quanity_greater)"
   ]
  },
  {
   "cell_type": "code",
   "execution_count": 57,
   "metadata": {},
   "outputs": [
    {
     "name": "stdout",
     "output_type": "stream",
     "text": [
      "   TransactionID TransactionDate  UserID  ProductID  Quant\n",
      "4              5      2013-06-06     2.0          4      1\n",
      "5              6      2013-12-23     2.0          5      6\n"
     ]
    }
   ],
   "source": [
    "# 23. Subset rows where UserID=2\n",
    "\n",
    "quanity_greater = df[df['UserID'] == 2]\n",
    "print(quanity_greater)"
   ]
  },
  {
   "cell_type": "code",
   "execution_count": 63,
   "metadata": {},
   "outputs": [
    {
     "name": "stdout",
     "output_type": "stream",
     "text": [
      "   TransactionID TransactionDate  UserID  ProductID  Quant\n",
      "5              6      2013-12-23     2.0          5      6\n"
     ]
    }
   ],
   "source": [
    "# 24. Subset rows where Quantity>1 and UserID=2\n",
    "\n",
    "quanity_greater = df[(df['UserID'] == 2) & (df['Quant'] > 1)]\n",
    "print(quanity_greater)"
   ]
  },
  {
   "cell_type": "code",
   "execution_count": 67,
   "metadata": {},
   "outputs": [
    {
     "name": "stdout",
     "output_type": "stream",
     "text": [
      "   TransactionID TransactionDate  UserID  ProductID  Quant\n",
      "0              1      2010-08-21     7.0          2      1\n",
      "1              2      2011-05-26     3.0          4      1\n",
      "2              3      2011-06-16     3.0          3      1\n",
      "3              4      2012-08-26     1.0          2      3\n",
      "5              6      2013-12-23     2.0          5      6\n",
      "6              7      2013-12-30     3.0          4      1\n",
      "8              9      2015-04-24     7.0          4      3\n",
      "9             10      2016-05-08     3.0          4      4\n"
     ]
    }
   ],
   "source": [
    "# 25. Subset rows where Quantity + UserID is >3\n",
    "\n",
    "quanity_greater = df[(df['UserID'] + df['Quant']) > 3]\n",
    "print(quanity_greater)"
   ]
  },
  {
   "cell_type": "code",
   "execution_count": 79,
   "metadata": {},
   "outputs": [
    {
     "name": "stdout",
     "output_type": "stream",
     "text": [
      "   TransactionID TransactionDate  UserID  ProductID  Quant  bar   foo\n",
      "0              1      2010-08-21     7.0          2      1    1  True\n",
      "1              2      2011-05-26     3.0          4      1   -1  True\n",
      "2              3      2011-06-16     3.0          3      1    3  True\n",
      "6              7      2013-12-30     3.0          4      1   -2  True\n",
      "7              8      2014-04-24     NaN          2      3    1  True\n",
      "8              9      2015-04-24     7.0          4      3   -1  True\n"
     ]
    }
   ],
   "source": [
    "# 26. Subset rows where an external array, foo, is True\n",
    "\n",
    "df['foo'] = [True,True,True,False,False,False,True,True,True,False]\n",
    "print(df[df['foo']])"
   ]
  },
  {
   "cell_type": "code",
   "execution_count": 76,
   "metadata": {},
   "outputs": [
    {
     "name": "stdout",
     "output_type": "stream",
     "text": [
      "   TransactionID TransactionDate  UserID  ProductID  Quant  bar    foo\n",
      "0              1      2010-08-21     7.0          2      1    1   True\n",
      "2              3      2011-06-16     3.0          3      1    3   True\n",
      "3              4      2012-08-26     1.0          2      3    2  False\n",
      "5              6      2013-12-23     2.0          5      6    2   True\n",
      "7              8      2014-04-24     NaN          2      3    1   True\n",
      "9             10      2016-05-08     3.0          4      4    3  False\n"
     ]
    }
   ],
   "source": [
    "# 27. Subset rows where an external array, bar, is positive\n",
    "\n",
    "# Assuming 'bar' is an external array of the same length as df\n",
    "df['bar'] = [1,-1,3,2,-3,2,-2,1,-1,3]\n",
    "subset = df[df['bar'] > 0]\n",
    "print(subset)"
   ]
  },
  {
   "cell_type": "code",
   "execution_count": 80,
   "metadata": {},
   "outputs": [
    {
     "name": "stdout",
     "output_type": "stream",
     "text": [
      "   TransactionID TransactionDate  UserID  ProductID  Quant  bar    foo\n",
      "0              1      2010-08-21     7.0          2      1    1   True\n",
      "1              2      2011-05-26     3.0          4      1   -1   True\n",
      "2              3      2011-06-16     3.0          3      1    3   True\n",
      "4              5      2013-06-06     2.0          4      1   -3  False\n",
      "6              7      2013-12-30     3.0          4      1   -2   True\n",
      "7              8      2014-04-24     NaN          2      3    1   True\n",
      "8              9      2015-04-24     7.0          4      3   -1   True\n"
     ]
    }
   ],
   "source": [
    "# 28. Subset rows where foo is TRUE or bar is negative\n",
    "\n",
    "new_col = df[(df['foo'] == True) | (df['bar'] < 0)]\n",
    "print(new_col)"
   ]
  },
  {
   "cell_type": "code",
   "execution_count": 83,
   "metadata": {},
   "outputs": [
    {
     "name": "stdout",
     "output_type": "stream",
     "text": [
      "   TransactionID TransactionDate  UserID  ProductID  Quant  bar    foo\n",
      "3              4      2012-08-26     1.0          2      3    2  False\n",
      "5              6      2013-12-23     2.0          5      6    2  False\n",
      "9             10      2016-05-08     3.0          4      4    3  False\n"
     ]
    }
   ],
   "source": [
    "# 29. Subset the rows where foo is not TRUE and bar is not negative\n",
    "\n",
    "new_col = df[(df['foo'] == False) & (df['bar'] > 0)]\n",
    "print(new_col)"
   ]
  },
  {
   "cell_type": "code",
   "execution_count": 85,
   "metadata": {},
   "outputs": [
    {
     "name": "stdout",
     "output_type": "stream",
     "text": [
      "  TransactionDate  ProductID\n",
      "0      2010-08-21          2\n",
      "1      2011-05-26          4\n",
      "2      2011-06-16          3\n",
      "3      2012-08-26          2\n",
      "4      2013-06-06          4\n",
      "5      2013-12-23          5\n",
      "6      2013-12-30          4\n",
      "7      2014-04-24          2\n",
      "8      2015-04-24          4\n",
      "9      2016-05-08          4\n"
     ]
    }
   ],
   "source": [
    "# 30. Subset by columns 1 and 3 (using integer-based indexing)\n",
    "sub_cols = df.iloc[:, [1, 3]]\n",
    "print(sub_cols)"
   ]
  },
  {
   "cell_type": "code",
   "execution_count": 86,
   "metadata": {},
   "outputs": [
    {
     "name": "stdout",
     "output_type": "stream",
     "text": [
      "   TransactionID TransactionDate\n",
      "0              1      2010-08-21\n",
      "1              2      2011-05-26\n",
      "2              3      2011-06-16\n",
      "3              4      2012-08-26\n",
      "4              5      2013-06-06\n",
      "5              6      2013-12-23\n",
      "6              7      2013-12-30\n",
      "7              8      2014-04-24\n",
      "8              9      2015-04-24\n",
      "9             10      2016-05-08\n"
     ]
    }
   ],
   "source": [
    "# 31. Subset by columns TransactionID and TransactionDate\n",
    "\n",
    "sub_cols = df[['TransactionID','TransactionDate']]\n",
    "print(sub_cols)"
   ]
  },
  {
   "cell_type": "code",
   "execution_count": 90,
   "metadata": {},
   "outputs": [
    {
     "name": "stdout",
     "output_type": "stream",
     "text": [
      "   TransactionID TransactionDate\n",
      "3              4      2012-08-26\n",
      "5              6      2013-12-23\n"
     ]
    }
   ],
   "source": [
    "# 32. Subset by columns TransactionID and TransactionDate with logical operator\n",
    "\n",
    "filtered_df = df[(df['TransactionID'] > 1) & (df['bar'] == 2)]\n",
    "filtered_df = filtered_df[['TransactionID','TransactionDate']]\n",
    "print(filtered_df)"
   ]
  },
  {
   "cell_type": "code",
   "execution_count": null,
   "metadata": {},
   "outputs": [
    {
     "name": "stdout",
     "output_type": "stream",
     "text": [
      "['TransactionID', 'TransactionDate', 'UserID', 'ProductID', 'Quant', 'bar', 'foo']\n"
     ]
    }
   ],
   "source": [
    "# 33. Subset columns by a variable list of column names\n",
    "\n",
    "# this question states about the retrieving the subset columns from the datafreme and in list type\n",
    "print(list(df.columns))"
   ]
  },
  {
   "cell_type": "code",
   "execution_count": 97,
   "metadata": {},
   "outputs": [
    {
     "name": "stdout",
     "output_type": "stream",
     "text": [
      "   TransactionID TransactionDate  UserID\n",
      "0              1      2010-08-21     7.0\n",
      "1              2      2011-05-26     3.0\n",
      "2              3      2011-06-16     3.0\n",
      "3              4      2012-08-26     1.0\n",
      "4              5      2013-06-06     2.0\n",
      "5              6      2013-12-23     2.0\n",
      "6              7      2013-12-30     3.0\n",
      "7              8      2014-04-24     NaN\n",
      "8              9      2015-04-24     7.0\n",
      "9             10      2016-05-08     3.0\n"
     ]
    }
   ],
   "source": [
    "# 34. Subset columns excluding a variable list of column names\n",
    "\n",
    "print(df[['TransactionID','TransactionDate','UserID']])"
   ]
  },
  {
   "cell_type": "code",
   "execution_count": 106,
   "metadata": {},
   "outputs": [
    {
     "data": {
      "text/html": [
       "<div>\n",
       "<style scoped>\n",
       "    .dataframe tbody tr th:only-of-type {\n",
       "        vertical-align: middle;\n",
       "    }\n",
       "\n",
       "    .dataframe tbody tr th {\n",
       "        vertical-align: top;\n",
       "    }\n",
       "\n",
       "    .dataframe thead th {\n",
       "        text-align: right;\n",
       "    }\n",
       "</style>\n",
       "<table border=\"1\" class=\"dataframe\">\n",
       "  <thead>\n",
       "    <tr style=\"text-align: right;\">\n",
       "      <th></th>\n",
       "      <th>TransactionID</th>\n",
       "      <th>TransactionDate</th>\n",
       "      <th>UserID</th>\n",
       "      <th>ProductID</th>\n",
       "      <th>Quant</th>\n",
       "      <th>bar</th>\n",
       "      <th>foo</th>\n",
       "      <th>Status</th>\n",
       "      <th>20-05-2003</th>\n",
       "    </tr>\n",
       "  </thead>\n",
       "  <tbody>\n",
       "    <tr>\n",
       "      <th>0</th>\n",
       "      <td>1</td>\n",
       "      <td>2010-08-21</td>\n",
       "      <td>7.0</td>\n",
       "      <td>2</td>\n",
       "      <td>1</td>\n",
       "      <td>1</td>\n",
       "      <td>True</td>\n",
       "      <td>Pending</td>\n",
       "      <td>123</td>\n",
       "    </tr>\n",
       "    <tr>\n",
       "      <th>1</th>\n",
       "      <td>2</td>\n",
       "      <td>2011-05-26</td>\n",
       "      <td>3.0</td>\n",
       "      <td>4</td>\n",
       "      <td>1</td>\n",
       "      <td>-1</td>\n",
       "      <td>True</td>\n",
       "      <td>Pending</td>\n",
       "      <td>123</td>\n",
       "    </tr>\n",
       "    <tr>\n",
       "      <th>2</th>\n",
       "      <td>3</td>\n",
       "      <td>2011-06-16</td>\n",
       "      <td>3.0</td>\n",
       "      <td>3</td>\n",
       "      <td>1</td>\n",
       "      <td>3</td>\n",
       "      <td>True</td>\n",
       "      <td>Pending</td>\n",
       "      <td>123</td>\n",
       "    </tr>\n",
       "    <tr>\n",
       "      <th>3</th>\n",
       "      <td>4</td>\n",
       "      <td>2012-08-26</td>\n",
       "      <td>1.0</td>\n",
       "      <td>2</td>\n",
       "      <td>3</td>\n",
       "      <td>2</td>\n",
       "      <td>False</td>\n",
       "      <td>Pending</td>\n",
       "      <td>123</td>\n",
       "    </tr>\n",
       "    <tr>\n",
       "      <th>4</th>\n",
       "      <td>5</td>\n",
       "      <td>2013-06-06</td>\n",
       "      <td>2.0</td>\n",
       "      <td>4</td>\n",
       "      <td>1</td>\n",
       "      <td>-3</td>\n",
       "      <td>False</td>\n",
       "      <td>Pending</td>\n",
       "      <td>123</td>\n",
       "    </tr>\n",
       "    <tr>\n",
       "      <th>5</th>\n",
       "      <td>6</td>\n",
       "      <td>2013-12-23</td>\n",
       "      <td>2.0</td>\n",
       "      <td>5</td>\n",
       "      <td>6</td>\n",
       "      <td>2</td>\n",
       "      <td>False</td>\n",
       "      <td>Pending</td>\n",
       "      <td>123</td>\n",
       "    </tr>\n",
       "    <tr>\n",
       "      <th>6</th>\n",
       "      <td>7</td>\n",
       "      <td>2013-12-30</td>\n",
       "      <td>3.0</td>\n",
       "      <td>4</td>\n",
       "      <td>1</td>\n",
       "      <td>-2</td>\n",
       "      <td>True</td>\n",
       "      <td>Pending</td>\n",
       "      <td>123</td>\n",
       "    </tr>\n",
       "    <tr>\n",
       "      <th>7</th>\n",
       "      <td>8</td>\n",
       "      <td>2014-04-24</td>\n",
       "      <td>NaN</td>\n",
       "      <td>2</td>\n",
       "      <td>3</td>\n",
       "      <td>1</td>\n",
       "      <td>True</td>\n",
       "      <td>Pending</td>\n",
       "      <td>123</td>\n",
       "    </tr>\n",
       "    <tr>\n",
       "      <th>8</th>\n",
       "      <td>9</td>\n",
       "      <td>2015-04-24</td>\n",
       "      <td>7.0</td>\n",
       "      <td>4</td>\n",
       "      <td>3</td>\n",
       "      <td>-1</td>\n",
       "      <td>True</td>\n",
       "      <td>Pending</td>\n",
       "      <td>123</td>\n",
       "    </tr>\n",
       "    <tr>\n",
       "      <th>9</th>\n",
       "      <td>10</td>\n",
       "      <td>2016-05-08</td>\n",
       "      <td>3.0</td>\n",
       "      <td>4</td>\n",
       "      <td>4</td>\n",
       "      <td>3</td>\n",
       "      <td>False</td>\n",
       "      <td>Pending</td>\n",
       "      <td>123</td>\n",
       "    </tr>\n",
       "  </tbody>\n",
       "</table>\n",
       "</div>"
      ],
      "text/plain": [
       "   TransactionID TransactionDate  UserID  ProductID  Quant  bar    foo  \\\n",
       "0              1      2010-08-21     7.0          2      1    1   True   \n",
       "1              2      2011-05-26     3.0          4      1   -1   True   \n",
       "2              3      2011-06-16     3.0          3      1    3   True   \n",
       "3              4      2012-08-26     1.0          2      3    2  False   \n",
       "4              5      2013-06-06     2.0          4      1   -3  False   \n",
       "5              6      2013-12-23     2.0          5      6    2  False   \n",
       "6              7      2013-12-30     3.0          4      1   -2   True   \n",
       "7              8      2014-04-24     NaN          2      3    1   True   \n",
       "8              9      2015-04-24     7.0          4      3   -1   True   \n",
       "9             10      2016-05-08     3.0          4      4    3  False   \n",
       "\n",
       "    Status  20-05-2003  \n",
       "0  Pending         123  \n",
       "1  Pending         123  \n",
       "2  Pending         123  \n",
       "3  Pending         123  \n",
       "4  Pending         123  \n",
       "5  Pending         123  \n",
       "6  Pending         123  \n",
       "7  Pending         123  \n",
       "8  Pending         123  \n",
       "9  Pending         123  "
      ]
     },
     "execution_count": 106,
     "metadata": {},
     "output_type": "execute_result"
    }
   ],
   "source": [
    "# 35. Inserting and updating values\n",
    "\n",
    "df['Status'] = 'Pending'\n",
    "# df.insert(8, '20-05-2003', 123)\n",
    "df\n"
   ]
  },
  {
   "cell_type": "code",
   "execution_count": 109,
   "metadata": {},
   "outputs": [
    {
     "name": "stdout",
     "output_type": "stream",
     "text": [
      "0   2010-08-21\n",
      "1   2011-05-26\n",
      "2   2011-06-16\n",
      "3   2012-08-26\n",
      "4   2013-06-06\n",
      "5   2013-12-23\n",
      "6   2013-12-30\n",
      "7   2014-04-24\n",
      "8   2015-04-24\n",
      "9   2016-05-08\n",
      "Name: TransactionDate, dtype: datetime64[ns]\n",
      "TransactionID               int64\n",
      "TransactionDate    datetime64[ns]\n",
      "UserID                    float64\n",
      "ProductID                   int64\n",
      "Quant                       int64\n",
      "bar                         int64\n",
      "foo                          bool\n",
      "Status                     object\n",
      "20-05-2003                  int64\n",
      "dtype: object\n"
     ]
    }
   ],
   "source": [
    "# 36. Convert the TransactionDate column to type Date\n",
    "\n",
    "df['TransactionDate'] = pd.to_datetime(df['TransactionDate'])\n",
    "print(df['TransactionDate'])\n",
    "print(df.dtypes)"
   ]
  },
  {
   "cell_type": "code",
   "execution_count": 115,
   "metadata": {},
   "outputs": [
    {
     "data": {
      "text/html": [
       "<div>\n",
       "<style scoped>\n",
       "    .dataframe tbody tr th:only-of-type {\n",
       "        vertical-align: middle;\n",
       "    }\n",
       "\n",
       "    .dataframe tbody tr th {\n",
       "        vertical-align: top;\n",
       "    }\n",
       "\n",
       "    .dataframe thead th {\n",
       "        text-align: right;\n",
       "    }\n",
       "</style>\n",
       "<table border=\"1\" class=\"dataframe\">\n",
       "  <thead>\n",
       "    <tr style=\"text-align: right;\">\n",
       "      <th></th>\n",
       "      <th>TransactionID</th>\n",
       "      <th>TransactionDate</th>\n",
       "      <th>UserID</th>\n",
       "      <th>ProductID</th>\n",
       "      <th>Quant</th>\n",
       "      <th>bar</th>\n",
       "      <th>foo</th>\n",
       "      <th>Status</th>\n",
       "      <th>20-05-2003</th>\n",
       "      <th>new_col</th>\n",
       "    </tr>\n",
       "  </thead>\n",
       "  <tbody>\n",
       "    <tr>\n",
       "      <th>0</th>\n",
       "      <td>1</td>\n",
       "      <td>2010-08-21</td>\n",
       "      <td>7.0</td>\n",
       "      <td>2</td>\n",
       "      <td>1</td>\n",
       "      <td>1</td>\n",
       "      <td>True</td>\n",
       "      <td>Pending</td>\n",
       "      <td>123</td>\n",
       "      <td>9.0</td>\n",
       "    </tr>\n",
       "    <tr>\n",
       "      <th>1</th>\n",
       "      <td>2</td>\n",
       "      <td>2011-05-26</td>\n",
       "      <td>3.0</td>\n",
       "      <td>4</td>\n",
       "      <td>1</td>\n",
       "      <td>-1</td>\n",
       "      <td>True</td>\n",
       "      <td>Pending</td>\n",
       "      <td>123</td>\n",
       "      <td>7.0</td>\n",
       "    </tr>\n",
       "    <tr>\n",
       "      <th>2</th>\n",
       "      <td>3</td>\n",
       "      <td>2011-06-16</td>\n",
       "      <td>3.0</td>\n",
       "      <td>3</td>\n",
       "      <td>1</td>\n",
       "      <td>3</td>\n",
       "      <td>True</td>\n",
       "      <td>Pending</td>\n",
       "      <td>123</td>\n",
       "      <td>6.0</td>\n",
       "    </tr>\n",
       "    <tr>\n",
       "      <th>3</th>\n",
       "      <td>4</td>\n",
       "      <td>2012-08-26</td>\n",
       "      <td>1.0</td>\n",
       "      <td>2</td>\n",
       "      <td>3</td>\n",
       "      <td>2</td>\n",
       "      <td>False</td>\n",
       "      <td>Pending</td>\n",
       "      <td>123</td>\n",
       "      <td>3.0</td>\n",
       "    </tr>\n",
       "    <tr>\n",
       "      <th>4</th>\n",
       "      <td>5</td>\n",
       "      <td>2013-06-06</td>\n",
       "      <td>2.0</td>\n",
       "      <td>4</td>\n",
       "      <td>1</td>\n",
       "      <td>-3</td>\n",
       "      <td>False</td>\n",
       "      <td>Pending</td>\n",
       "      <td>123</td>\n",
       "      <td>6.0</td>\n",
       "    </tr>\n",
       "    <tr>\n",
       "      <th>5</th>\n",
       "      <td>6</td>\n",
       "      <td>2013-12-23</td>\n",
       "      <td>2.0</td>\n",
       "      <td>5</td>\n",
       "      <td>6</td>\n",
       "      <td>2</td>\n",
       "      <td>False</td>\n",
       "      <td>Pending</td>\n",
       "      <td>123</td>\n",
       "      <td>7.0</td>\n",
       "    </tr>\n",
       "    <tr>\n",
       "      <th>6</th>\n",
       "      <td>7</td>\n",
       "      <td>2013-12-30</td>\n",
       "      <td>3.0</td>\n",
       "      <td>4</td>\n",
       "      <td>1</td>\n",
       "      <td>-2</td>\n",
       "      <td>True</td>\n",
       "      <td>Pending</td>\n",
       "      <td>123</td>\n",
       "      <td>7.0</td>\n",
       "    </tr>\n",
       "    <tr>\n",
       "      <th>7</th>\n",
       "      <td>8</td>\n",
       "      <td>2014-04-24</td>\n",
       "      <td>NaN</td>\n",
       "      <td>2</td>\n",
       "      <td>3</td>\n",
       "      <td>1</td>\n",
       "      <td>True</td>\n",
       "      <td>Pending</td>\n",
       "      <td>123</td>\n",
       "      <td>NaN</td>\n",
       "    </tr>\n",
       "    <tr>\n",
       "      <th>8</th>\n",
       "      <td>9</td>\n",
       "      <td>2015-04-24</td>\n",
       "      <td>7.0</td>\n",
       "      <td>4</td>\n",
       "      <td>3</td>\n",
       "      <td>-1</td>\n",
       "      <td>True</td>\n",
       "      <td>Pending</td>\n",
       "      <td>123</td>\n",
       "      <td>11.0</td>\n",
       "    </tr>\n",
       "    <tr>\n",
       "      <th>9</th>\n",
       "      <td>10</td>\n",
       "      <td>2016-05-08</td>\n",
       "      <td>3.0</td>\n",
       "      <td>4</td>\n",
       "      <td>4</td>\n",
       "      <td>3</td>\n",
       "      <td>False</td>\n",
       "      <td>Pending</td>\n",
       "      <td>123</td>\n",
       "      <td>7.0</td>\n",
       "    </tr>\n",
       "  </tbody>\n",
       "</table>\n",
       "</div>"
      ],
      "text/plain": [
       "   TransactionID TransactionDate  UserID  ProductID  Quant  bar    foo  \\\n",
       "0              1      2010-08-21     7.0          2      1    1   True   \n",
       "1              2      2011-05-26     3.0          4      1   -1   True   \n",
       "2              3      2011-06-16     3.0          3      1    3   True   \n",
       "3              4      2012-08-26     1.0          2      3    2  False   \n",
       "4              5      2013-06-06     2.0          4      1   -3  False   \n",
       "5              6      2013-12-23     2.0          5      6    2  False   \n",
       "6              7      2013-12-30     3.0          4      1   -2   True   \n",
       "7              8      2014-04-24     NaN          2      3    1   True   \n",
       "8              9      2015-04-24     7.0          4      3   -1   True   \n",
       "9             10      2016-05-08     3.0          4      4    3  False   \n",
       "\n",
       "    Status  20-05-2003  new_col  \n",
       "0  Pending         123      9.0  \n",
       "1  Pending         123      7.0  \n",
       "2  Pending         123      6.0  \n",
       "3  Pending         123      3.0  \n",
       "4  Pending         123      6.0  \n",
       "5  Pending         123      7.0  \n",
       "6  Pending         123      7.0  \n",
       "7  Pending         123      NaN  \n",
       "8  Pending         123     11.0  \n",
       "9  Pending         123      7.0  "
      ]
     },
     "execution_count": 115,
     "metadata": {},
     "output_type": "execute_result"
    }
   ],
   "source": [
    "# 37. Insert a new column, Foo=UserID+ProductID\n",
    "\n",
    "df['new_col'] = df['UserID'] + df['ProductID']\n",
    "df"
   ]
  },
  {
   "cell_type": "code",
   "execution_count": null,
   "metadata": {},
   "outputs": [],
   "source": []
  }
 ],
 "metadata": {
  "kernelspec": {
   "display_name": "Python 3",
   "language": "python",
   "name": "python3"
  },
  "language_info": {
   "codemirror_mode": {
    "name": "ipython",
    "version": 3
   },
   "file_extension": ".py",
   "mimetype": "text/x-python",
   "name": "python",
   "nbconvert_exporter": "python",
   "pygments_lexer": "ipython3",
   "version": "3.12.2"
  }
 },
 "nbformat": 4,
 "nbformat_minor": 2
}
