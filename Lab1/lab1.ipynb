{
 "cells": [
  {
   "cell_type": "code",
   "execution_count": 1,
   "metadata": {},
   "outputs": [
    {
     "name": "stdout",
     "output_type": "stream",
     "text": [
      "0    10\n",
      "1    20\n",
      "2    30\n",
      "3    40\n",
      "dtype: int64\n"
     ]
    }
   ],
   "source": [
    "import pandas as pd \n",
    "data = [10, 20, 30, 40] \n",
    "v = pd.Series(data) \n",
    "print(v)"
   ]
  },
  {
   "cell_type": "markdown",
   "metadata": {},
   "source": [
    "# DataFrame"
   ]
  },
  {
   "cell_type": "code",
   "execution_count": 49,
   "metadata": {},
   "outputs": [
    {
     "name": "stdout",
     "output_type": "stream",
     "text": [
      "     Name  Age          Work\n",
      "0  sravan   20           SDE\n",
      "1     Ram   30          Work\n",
      "2    Mani   40  Cow Business\n"
     ]
    }
   ],
   "source": [
    "import pandas as pd\n",
    "\n",
    "data = {\n",
    "    \"Name\" : [\"sravan\", \"Ram\", \"Mani\"],\n",
    "    \"Age\" : [20,30,40],\n",
    "    \"Work\" : [\"SDE\", \"Work\",\"Cow Business\"]\n",
    "}\n",
    "\n",
    "df = pd.DataFrame(data)\n",
    "print(df)"
   ]
  },
  {
   "cell_type": "code",
   "execution_count": 50,
   "metadata": {},
   "outputs": [],
   "source": [
    "import pandas as pd\n",
    "\n",
    "df=pd.read_csv(\"transactions.csv\") "
   ]
  },
  {
   "cell_type": "code",
   "execution_count": 51,
   "metadata": {},
   "outputs": [
    {
     "name": "stdout",
     "output_type": "stream",
     "text": [
      "   TransactionID TransactionDate  UserID  ProductID  Quantity\n",
      "0              1      2010-08-21     7.0          2         1\n",
      "1              2      2011-05-26     3.0          4         1\n",
      "2              3      2011-06-16     3.0          3         1\n",
      "3              4      2012-08-26     1.0          2         3\n",
      "4              5      2013-06-06     2.0          4         1\n",
      "5              6      2013-12-23     2.0          5         6\n",
      "6              7      2013-12-30     3.0          4         1\n",
      "7              8      2014-04-24     NaN          2         3\n",
      "8              9      2015-04-24     7.0          4         3\n",
      "9             10      2016-05-08     3.0          4         4\n"
     ]
    }
   ],
   "source": [
    "print(df.head(10)) "
   ]
  },
  {
   "cell_type": "code",
   "execution_count": 52,
   "metadata": {},
   "outputs": [
    {
     "name": "stdout",
     "output_type": "stream",
     "text": [
      "   TransactionID TransactionDate  UserID  ProductID  Quantity\n",
      "5              6      2013-12-23     2.0          5         6\n",
      "6              7      2013-12-30     3.0          4         1\n",
      "7              8      2014-04-24     NaN          2         3\n",
      "8              9      2015-04-24     7.0          4         3\n",
      "9             10      2016-05-08     3.0          4         4\n"
     ]
    }
   ],
   "source": [
    "print(df.tail(5))"
   ]
  },
  {
   "cell_type": "code",
   "execution_count": 53,
   "metadata": {},
   "outputs": [
    {
     "name": "stdout",
     "output_type": "stream",
     "text": [
      "<class 'pandas.core.frame.DataFrame'>\n",
      "RangeIndex: 10 entries, 0 to 9\n",
      "Data columns (total 5 columns):\n",
      " #   Column           Non-Null Count  Dtype  \n",
      "---  ------           --------------  -----  \n",
      " 0   TransactionID    10 non-null     int64  \n",
      " 1   TransactionDate  10 non-null     object \n",
      " 2   UserID           9 non-null      float64\n",
      " 3   ProductID        10 non-null     int64  \n",
      " 4   Quantity         10 non-null     int64  \n",
      "dtypes: float64(1), int64(3), object(1)\n",
      "memory usage: 532.0+ bytes\n",
      "None\n"
     ]
    }
   ],
   "source": [
    "print(df.info())"
   ]
  },
  {
   "cell_type": "code",
   "execution_count": 54,
   "metadata": {},
   "outputs": [
    {
     "name": "stdout",
     "output_type": "stream",
     "text": [
      "       TransactionID    UserID  ProductID   Quantity\n",
      "count       10.00000  9.000000  10.000000  10.000000\n",
      "mean         5.50000  3.444444   3.400000   2.400000\n",
      "std          3.02765  2.127858   1.074968   1.712698\n",
      "min          1.00000  1.000000   2.000000   1.000000\n",
      "25%          3.25000  2.000000   2.250000   1.000000\n",
      "50%          5.50000  3.000000   4.000000   2.000000\n",
      "75%          7.75000  3.000000   4.000000   3.000000\n",
      "max         10.00000  7.000000   5.000000   6.000000\n"
     ]
    }
   ],
   "source": [
    "print(df.describe())"
   ]
  },
  {
   "cell_type": "code",
   "execution_count": 55,
   "metadata": {},
   "outputs": [
    {
     "name": "stdout",
     "output_type": "stream",
     "text": [
      "0    2010-08-21\n",
      "1    2011-05-26\n",
      "2    2011-06-16\n",
      "3    2012-08-26\n",
      "4    2013-06-06\n",
      "5    2013-12-23\n",
      "6    2013-12-30\n",
      "7    2014-04-24\n",
      "8    2015-04-24\n",
      "9    2016-05-08\n",
      "Name: TransactionDate, dtype: object\n"
     ]
    }
   ],
   "source": [
    "print(df['TransactionDate'])"
   ]
  },
  {
   "cell_type": "code",
   "execution_count": 56,
   "metadata": {},
   "outputs": [
    {
     "name": "stdout",
     "output_type": "stream",
     "text": [
      "  TransactionDate  TransactionID\n",
      "0      2010-08-21              1\n",
      "1      2011-05-26              2\n",
      "2      2011-06-16              3\n",
      "3      2012-08-26              4\n",
      "4      2013-06-06              5\n",
      "5      2013-12-23              6\n",
      "6      2013-12-30              7\n",
      "7      2014-04-24              8\n",
      "8      2015-04-24              9\n",
      "9      2016-05-08             10\n"
     ]
    }
   ],
   "source": [
    "print(df[['TransactionDate','TransactionID']])"
   ]
  },
  {
   "cell_type": "code",
   "execution_count": 57,
   "metadata": {},
   "outputs": [
    {
     "name": "stdout",
     "output_type": "stream",
     "text": [
      "TransactionID               3\n",
      "TransactionDate    2011-06-16\n",
      "UserID                    3.0\n",
      "ProductID                   3\n",
      "Quantity                    1\n",
      "Name: 2, dtype: object\n"
     ]
    }
   ],
   "source": [
    "print(df.iloc[2])"
   ]
  },
  {
   "cell_type": "code",
   "execution_count": 58,
   "metadata": {},
   "outputs": [
    {
     "name": "stdout",
     "output_type": "stream",
     "text": [
      "   TransactionID TransactionDate  UserID  ProductID  Quantity\n",
      "3              4      2012-08-26     1.0          2         3\n",
      "5              6      2013-12-23     2.0          5         6\n",
      "7              8      2014-04-24     NaN          2         3\n",
      "8              9      2015-04-24     7.0          4         3\n",
      "9             10      2016-05-08     3.0          4         4\n"
     ]
    }
   ],
   "source": [
    "filtered = df[df['Quantity'] >= 2]\n",
    "print(filtered)"
   ]
  },
  {
   "cell_type": "code",
   "execution_count": 59,
   "metadata": {},
   "outputs": [
    {
     "name": "stdout",
     "output_type": "stream",
     "text": [
      "   ID TransactionDate  UserID  ProductID  Quantity\n",
      "0   1      2010-08-21     7.0          2         1\n",
      "1   2      2011-05-26     3.0          4         1\n",
      "2   3      2011-06-16     3.0          3         1\n",
      "3   4      2012-08-26     1.0          2         3\n",
      "4   5      2013-06-06     2.0          4         1\n",
      "5   6      2013-12-23     2.0          5         6\n",
      "6   7      2013-12-30     3.0          4         1\n",
      "7   8      2014-04-24     NaN          2         3\n",
      "8   9      2015-04-24     7.0          4         3\n",
      "9  10      2016-05-08     3.0          4         4\n"
     ]
    }
   ],
   "source": [
    "df.rename(columns = {'TransactionID':'ID'}, inplace = True)\n",
    "print(df)"
   ]
  },
  {
   "cell_type": "code",
   "execution_count": 60,
   "metadata": {},
   "outputs": [
    {
     "name": "stdout",
     "output_type": "stream",
     "text": [
      "ID                 0\n",
      "TransactionDate    0\n",
      "UserID             1\n",
      "ProductID          0\n",
      "Quantity           0\n",
      "dtype: int64\n"
     ]
    }
   ],
   "source": [
    "print(df.isnull().sum())"
   ]
  },
  {
   "cell_type": "code",
   "execution_count": 61,
   "metadata": {},
   "outputs": [
    {
     "name": "stdout",
     "output_type": "stream",
     "text": [
      "   ID TransactionDate  UserID  ProductID  Quantity\n",
      "0   1      2010-08-21     7.0          2         1\n",
      "1   2      2011-05-26     3.0          4         1\n",
      "2   3      2011-06-16     3.0          3         1\n",
      "3   4      2012-08-26     1.0          2         3\n",
      "4   5      2013-06-06     2.0          4         1\n",
      "5   6      2013-12-23     2.0          5         6\n",
      "6   7      2013-12-30     3.0          4         1\n",
      "7   8      2014-04-24     NaN          2         3\n",
      "8   9      2015-04-24     7.0          4         3\n",
      "9  10      2016-05-08     3.0          4         4\n"
     ]
    }
   ],
   "source": [
    "print(df)"
   ]
  },
  {
   "cell_type": "code",
   "execution_count": 63,
   "metadata": {},
   "outputs": [
    {
     "name": "stdout",
     "output_type": "stream",
     "text": [
      "   ID TransactionDate    UserID  ProductID  Quantity\n",
      "0   1      2010-08-21  7.000000          2         1\n",
      "1   2      2011-05-26  3.000000          4         1\n",
      "2   3      2011-06-16  3.000000          3         1\n",
      "3   4      2012-08-26  1.000000          2         3\n",
      "4   5      2013-06-06  2.000000          4         1\n",
      "5   6      2013-12-23  2.000000          5         6\n",
      "6   7      2013-12-30  3.000000          4         1\n",
      "7   8      2014-04-24  3.444444          2         3\n",
      "8   9      2015-04-24  7.000000          4         3\n",
      "9  10      2016-05-08  3.000000          4         4\n"
     ]
    }
   ],
   "source": [
    "df['UserID'] = df['UserID'].fillna(df['UserID'].mean())\n",
    "print(df)"
   ]
  },
  {
   "cell_type": "code",
   "execution_count": 65,
   "metadata": {},
   "outputs": [
    {
     "name": "stdout",
     "output_type": "stream",
     "text": [
      "   ID TransactionDate    UserID  ProductID  Quantity\n",
      "6   7      2013-12-30  3.000000          4         1\n",
      "4   5      2013-06-06  2.000000          4         1\n",
      "2   3      2011-06-16  3.000000          3         1\n",
      "1   2      2011-05-26  3.000000          4         1\n",
      "0   1      2010-08-21  7.000000          2         1\n",
      "8   9      2015-04-24  7.000000          4         3\n",
      "7   8      2014-04-24  3.444444          2         3\n",
      "3   4      2012-08-26  1.000000          2         3\n",
      "9  10      2016-05-08  3.000000          4         4\n",
      "5   6      2013-12-23  2.000000          5         6\n"
     ]
    }
   ],
   "source": [
    "df_sorted = df.sort_values(by=[\"Quantity\", \"TransactionDate\"], \n",
    "ascending=[True, False]) \n",
    "print(df_sorted.head(10))"
   ]
  },
  {
   "cell_type": "code",
   "execution_count": 66,
   "metadata": {},
   "outputs": [
    {
     "name": "stdout",
     "output_type": "stream",
     "text": [
      "   ID TransactionDate    UserID  ProductID  Quantity\n",
      "3   4      2012-08-26  1.000000          2         3\n",
      "5   6      2013-12-23  2.000000          5         6\n",
      "7   8      2014-04-24  3.444444          2         3\n",
      "8   9      2015-04-24  7.000000          4         3\n",
      "9  10      2016-05-08  3.000000          4         4\n"
     ]
    }
   ],
   "source": [
    "subset = df[df['Quantity'] > 2]\n",
    "print(subset)"
   ]
  },
  {
   "cell_type": "code",
   "execution_count": 67,
   "metadata": {},
   "outputs": [
    {
     "name": "stdout",
     "output_type": "stream",
     "text": [
      "   ID TransactionDate  UserID  ProductID  Quantity\n",
      "0   1      2010-08-21     7.0          2         1\n",
      "2   3      2011-06-16     3.0          3         1\n",
      "5   6      2013-12-23     2.0          5         6\n"
     ]
    }
   ],
   "source": [
    "subset_rows = df.iloc[[0, 2, 5]]   \n",
    "print(subset_rows)"
   ]
  },
  {
   "cell_type": "code",
   "execution_count": 71,
   "metadata": {},
   "outputs": [
    {
     "name": "stdout",
     "output_type": "stream",
     "text": [
      "  TransactionDate    UserID\n",
      "3      2012-08-26  1.000000\n",
      "5      2013-12-23  2.000000\n",
      "7      2014-04-24  3.444444\n",
      "8      2015-04-24  7.000000\n",
      "9      2016-05-08  3.000000\n"
     ]
    }
   ],
   "source": [
    "subset_row = df[df['Quantity'] > 2][['TransactionDate','UserID']]\n",
    "print(subset_row)"
   ]
  },
  {
   "cell_type": "code",
   "execution_count": 72,
   "metadata": {},
   "outputs": [
    {
     "name": "stdout",
     "output_type": "stream",
     "text": [
      "   Quantity TransactionDate    UserID\n",
      "0         1      2010-08-21  7.000000\n",
      "1         1      2011-05-26  3.000000\n",
      "2         1      2011-06-16  3.000000\n",
      "3         3      2012-08-26  1.000000\n",
      "4         1      2013-06-06  2.000000\n",
      "5         6      2013-12-23  2.000000\n",
      "6         1      2013-12-30  3.000000\n",
      "7         3      2014-04-24  3.444444\n",
      "8         3      2015-04-24  7.000000\n",
      "9         4      2016-05-08  3.000000\n"
     ]
    }
   ],
   "source": [
    "cols = ['Quantity', 'TransactionDate', 'UserID']\n",
    "subset_cols = df[cols]\n",
    "print(subset_cols)"
   ]
  },
  {
   "cell_type": "code",
   "execution_count": 73,
   "metadata": {},
   "outputs": [
    {
     "name": "stdout",
     "output_type": "stream",
     "text": [
      "   ID TransactionDate    UserID\n",
      "0   1      2010-08-21  7.000000\n",
      "1   2      2011-05-26  3.000000\n",
      "2   3      2011-06-16  3.000000\n",
      "3   4      2012-08-26  1.000000\n",
      "4   5      2013-06-06  2.000000\n",
      "5   6      2013-12-23  2.000000\n",
      "6   7      2013-12-30  3.000000\n",
      "7   8      2014-04-24  3.444444\n",
      "8   9      2015-04-24  7.000000\n",
      "9  10      2016-05-08  3.000000\n"
     ]
    }
   ],
   "source": [
    "columns_to_exclude = ['Quantity', 'ProductID'] \n",
    "subset_columns_excluded = df[[col for col in df.columns if col not \n",
    "in columns_to_exclude]] \n",
    "print(subset_columns_excluded)"
   ]
  },
  {
   "cell_type": "code",
   "execution_count": 75,
   "metadata": {},
   "outputs": [
    {
     "name": "stdout",
     "output_type": "stream",
     "text": [
      "ID                          int64\n",
      "TransactionDate    datetime64[ns]\n",
      "UserID                    float64\n",
      "ProductID                   int64\n",
      "Quantity                    int64\n",
      "dtype: object\n"
     ]
    }
   ],
   "source": [
    "df['TransactionDate'] = pd.to_datetime(df['TransactionDate'])\n",
    "print(df.dtypes)"
   ]
  },
  {
   "cell_type": "code",
   "execution_count": 79,
   "metadata": {},
   "outputs": [
    {
     "name": "stdout",
     "output_type": "stream",
     "text": [
      "   ID TransactionDate  UserID  ProductID  Quantity\n",
      "0   1      2010-08-21     7.0          2         1\n",
      "2   3      2011-06-16     3.0          3         1\n",
      "4   5      2013-06-06     2.0          4         1\n",
      "6   7      2013-12-30     3.0          4         1\n",
      "8   9      2015-04-24     7.0          4         3\n"
     ]
    }
   ],
   "source": [
    "foo = [True, False, True, False, True, False, True, False, True, False]\n",
    "subset_rows = df[foo] \n",
    "print(subset_rows)"
   ]
  },
  {
   "cell_type": "code",
   "execution_count": 81,
   "metadata": {},
   "outputs": [
    {
     "name": "stdout",
     "output_type": "stream",
     "text": [
      "   ID TransactionDate    UserID  ProductID  Quantity        Foo\n",
      "0   1      2010-08-21  7.000000          2         1   9.000000\n",
      "1   2      2011-05-26  3.000000          4         1   7.000000\n",
      "2   3      2011-06-16  3.000000          3         1   6.000000\n",
      "3   4      2012-08-26  1.000000          2         3   3.000000\n",
      "4   5      2013-06-06  2.000000          4         1   6.000000\n",
      "5   6      2013-12-23  2.000000          5         6   7.000000\n",
      "6   7      2013-12-30  3.000000          4         1   7.000000\n",
      "7   8      2014-04-24  3.444444          2         3   5.444444\n",
      "8   9      2015-04-24  7.000000          4         3  11.000000\n",
      "9  10      2016-05-08  3.000000          4         4   7.000000\n"
     ]
    }
   ],
   "source": [
    "df['Foo'] = df['UserID'] + df['ProductID'] \n",
    "print(df.head(10))"
   ]
  },
  {
   "cell_type": "code",
   "execution_count": 83,
   "metadata": {},
   "outputs": [
    {
     "name": "stdout",
     "output_type": "stream",
     "text": [
      "    ID      TransactionDate     UserID  ProductID  Quantity        Foo\n",
      "0    1  2010-08-21 00:00:00   7.000000          2         1   9.000000\n",
      "1    2  2011-05-26 00:00:00   3.000000          4         1   7.000000\n",
      "2    3  2011-06-16 00:00:00   3.000000          3         1   6.000000\n",
      "3    4  2012-08-26 00:00:00   1.000000          2         3   3.000000\n",
      "4    5  2013-06-06 00:00:00   2.000000          4         1   6.000000\n",
      "5    6  2013-12-23 00:00:00   2.000000          5         6   7.000000\n",
      "6    7  2013-12-30 00:00:00   3.000000          4         1   7.000000\n",
      "7    8  2014-04-24 00:00:00   3.444444          2         3   5.444444\n",
      "8    9  2015-04-24 00:00:00   7.000000          4         3  11.000000\n",
      "9   10  2016-05-08 00:00:00   3.000000          4         4   7.000000\n",
      "10  11           2020-01-01  55.000000          1         3  56.000000\n"
     ]
    }
   ],
   "source": [
    "df.loc[len(df)] = [11, '2020-01-01', 55, 1, 3, 55 + 1]\n",
    "print(df)"
   ]
  },
  {
   "cell_type": "code",
   "execution_count": 84,
   "metadata": {},
   "outputs": [
    {
     "name": "stdout",
     "output_type": "stream",
     "text": [
      "    ID      TransactionDate      UserID  ProductID  Quantity        Foo\n",
      "0    1  2010-08-21 00:00:00    7.000000          2         1   9.000000\n",
      "1    2  2011-05-26 00:00:00    3.000000          4         1   7.000000\n",
      "2    3  2011-06-16 00:00:00    3.000000          3         1   6.000000\n",
      "3    4  2012-08-26 00:00:00  100.000000          2         3   3.000000\n",
      "4    5  2013-06-06 00:00:00    2.000000          4         1   6.000000\n",
      "5    6  2013-12-23 00:00:00    2.000000          5         6   7.000000\n",
      "6    7  2013-12-30 00:00:00    3.000000          4         1   7.000000\n",
      "7    8  2014-04-24 00:00:00    3.444444          2         3   5.444444\n",
      "8    9  2015-04-24 00:00:00    7.000000          4         3  11.000000\n",
      "9   10  2016-05-08 00:00:00    3.000000          4         4   7.000000\n",
      "10  11           2020-01-01   55.000000          1         3  56.000000\n"
     ]
    }
   ],
   "source": [
    "df.loc[df['UserID'] == 1, 'UserID'] = 100\n",
    "\n",
    "print(df)"
   ]
  },
  {
   "cell_type": "code",
   "execution_count": 85,
   "metadata": {},
   "outputs": [
    {
     "name": "stdout",
     "output_type": "stream",
     "text": [
      "   ID      TransactionDate  UserID  ProductID  Quantity  Foo  NewColumn\n",
      "0   1  2010-08-21 00:00:00     7.0          2         1  9.0          2\n",
      "1   2  2011-05-26 00:00:00     3.0          4         1  7.0          2\n",
      "2   3  2011-06-16 00:00:00     3.0          3         1  6.0          2\n",
      "3   4  2012-08-26 00:00:00   100.0          2         3  3.0          6\n",
      "4   5  2013-06-06 00:00:00     2.0          4         1  6.0          2\n"
     ]
    }
   ],
   "source": [
    "df['NewColumn'] = df['Quantity'] * 2 \n",
    "print(df.head())"
   ]
  },
  {
   "cell_type": "code",
   "execution_count": 86,
   "metadata": {},
   "outputs": [],
   "source": [
    "df['TransactionDate'] = pd.to_datetime(df['TransactionDate'])"
   ]
  },
  {
   "cell_type": "markdown",
   "metadata": {},
   "source": []
  }
 ],
 "metadata": {
  "kernelspec": {
   "display_name": "Python 3 (ipykernel)",
   "language": "python",
   "name": "python3"
  },
  "language_info": {
   "codemirror_mode": {
    "name": "ipython",
    "version": 3
   },
   "file_extension": ".py",
   "mimetype": "text/x-python",
   "name": "python",
   "nbconvert_exporter": "python",
   "pygments_lexer": "ipython3",
   "version": "3.11.4"
  }
 },
 "nbformat": 4,
 "nbformat_minor": 2
}
