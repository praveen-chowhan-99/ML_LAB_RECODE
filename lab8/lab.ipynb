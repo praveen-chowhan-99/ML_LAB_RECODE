{
 "cells": [
  {
   "cell_type": "code",
   "execution_count": 1,
   "metadata": {},
   "outputs": [],
   "source": [
    "import numpy as np\n",
    "import pandas as pd\n",
    "import matplotlib.pyplot as plt"
   ]
  },
  {
   "cell_type": "code",
   "execution_count": 2,
   "metadata": {},
   "outputs": [
    {
     "data": {
      "text/html": [
       "<div>\n",
       "<style scoped>\n",
       "    .dataframe tbody tr th:only-of-type {\n",
       "        vertical-align: middle;\n",
       "    }\n",
       "\n",
       "    .dataframe tbody tr th {\n",
       "        vertical-align: top;\n",
       "    }\n",
       "\n",
       "    .dataframe thead th {\n",
       "        text-align: right;\n",
       "    }\n",
       "</style>\n",
       "<table border=\"1\" class=\"dataframe\">\n",
       "  <thead>\n",
       "    <tr style=\"text-align: right;\">\n",
       "      <th></th>\n",
       "      <th>text</th>\n",
       "      <th>target</th>\n",
       "      <th>category</th>\n",
       "    </tr>\n",
       "  </thead>\n",
       "  <tbody>\n",
       "    <tr>\n",
       "      <th>0</th>\n",
       "      <td>From: degroff@netcom.com (21012d)\\nSubject: Re...</td>\n",
       "      <td>2</td>\n",
       "      <td>sci.space</td>\n",
       "    </tr>\n",
       "    <tr>\n",
       "      <th>1</th>\n",
       "      <td>From: ab@nova.cc.purdue.edu (Allen B)\\nSubject...</td>\n",
       "      <td>1</td>\n",
       "      <td>comp.graphics</td>\n",
       "    </tr>\n",
       "    <tr>\n",
       "      <th>2</th>\n",
       "      <td>From: healta@saturn.wwc.edu (Tammy R Healy)\\nS...</td>\n",
       "      <td>0</td>\n",
       "      <td>alt.atheism</td>\n",
       "    </tr>\n",
       "    <tr>\n",
       "      <th>3</th>\n",
       "      <td>From: capelli@vnet.IBM.COM (Ron Capelli)\\nSubj...</td>\n",
       "      <td>1</td>\n",
       "      <td>comp.graphics</td>\n",
       "    </tr>\n",
       "    <tr>\n",
       "      <th>4</th>\n",
       "      <td>From: henry@zoo.toronto.edu (Henry Spencer)\\nS...</td>\n",
       "      <td>2</td>\n",
       "      <td>sci.space</td>\n",
       "    </tr>\n",
       "  </tbody>\n",
       "</table>\n",
       "</div>"
      ],
      "text/plain": [
       "                                                text  target       category\n",
       "0  From: degroff@netcom.com (21012d)\\nSubject: Re...       2      sci.space\n",
       "1  From: ab@nova.cc.purdue.edu (Allen B)\\nSubject...       1  comp.graphics\n",
       "2  From: healta@saturn.wwc.edu (Tammy R Healy)\\nS...       0    alt.atheism\n",
       "3  From: capelli@vnet.IBM.COM (Ron Capelli)\\nSubj...       1  comp.graphics\n",
       "4  From: henry@zoo.toronto.edu (Henry Spencer)\\nS...       2      sci.space"
      ]
     },
     "execution_count": 2,
     "metadata": {},
     "output_type": "execute_result"
    }
   ],
   "source": [
    "df = pd.read_csv(\"newsgroups_train.csv\")\n",
    "df.head(5)"
   ]
  },
  {
   "cell_type": "code",
   "execution_count": 33,
   "metadata": {},
   "outputs": [
    {
     "data": {
      "text/plain": [
       "0       From: degroff@netcom.com (21012d)\\nSubject: Re...\n",
       "1       From: ab@nova.cc.purdue.edu (Allen B)\\nSubject...\n",
       "2       From: healta@saturn.wwc.edu (Tammy R Healy)\\nS...\n",
       "3       From: capelli@vnet.IBM.COM (Ron Capelli)\\nSubj...\n",
       "4       From: henry@zoo.toronto.edu (Henry Spencer)\\nS...\n",
       "                              ...                        \n",
       "1652    From: ab@nova.cc.purdue.edu (Allen B)\\nSubject...\n",
       "1653    From: renes@ecpdsharmony.cern.ch (Rene S. Dutc...\n",
       "1654    From: xrcjd@resolve.gsfc.nasa.gov (Charles J. ...\n",
       "1655    From: dietz@cs.rochester.edu (Paul Dietz)\\nSub...\n",
       "1656    From: jhwitten@cs.ruu.nl (Jurriaan Wittenberg)...\n",
       "Name: text, Length: 1657, dtype: object"
      ]
     },
     "execution_count": 33,
     "metadata": {},
     "output_type": "execute_result"
    }
   ],
   "source": [
    "df.text"
   ]
  },
  {
   "cell_type": "code",
   "execution_count": 11,
   "metadata": {},
   "outputs": [
    {
     "data": {
      "text/plain": [
       "array([[0, 0, 0, ..., 0, 0, 0],\n",
       "       [0, 0, 0, ..., 0, 0, 0],\n",
       "       [0, 0, 0, ..., 0, 0, 0],\n",
       "       ...,\n",
       "       [0, 0, 0, ..., 0, 0, 0],\n",
       "       [0, 0, 0, ..., 0, 0, 0],\n",
       "       [0, 0, 0, ..., 0, 0, 0]])"
      ]
     },
     "execution_count": 11,
     "metadata": {},
     "output_type": "execute_result"
    }
   ],
   "source": [
    "from sklearn.feature_extraction.text import CountVectorizer\n",
    "vectorize = CountVectorizer(max_features=1500)\n",
    "vectors = vectorize.fit_transform(df['text'])\n",
    "vectors = vectors.toarray()\n",
    "vectors"
   ]
  },
  {
   "cell_type": "code",
   "execution_count": 26,
   "metadata": {},
   "outputs": [
    {
     "name": "stdout",
     "output_type": "stream",
     "text": [
      "0 0 0 0 0 0 0 0 0 0 0 0 0 0 0 0 0 0 0 0 0 0 0 0 0 0 0 0 0 0 0 0 0 0 0 0 0 0 0 0 0 0 0 0 0 0 0 0 0 0 0 0 0 0 0 0 0 0 1 0 0 0 0 0 0 0 0 0 0 0 0 0 0 0 0 0 0 0 0 0 0 0 0 0 0 0 0 0 0 0 0 0 0 0 0 0 0 0 0 0 0 0 0 0 0 0 0 0 0 0 0 0 0 0 0 0 1 0 0 0 0 0 0 0 0 0 0 0 0 0 0 0 0 0 0 0 0 0 0 0 0 0 0 1 0 0 0 0 0 0 0 0 0 0 0 0 0 0 0 0 0 0 0 0 0 0 0 0 0 1 0 0 0 0 0 0 0 0 0 0 0 0 0 0 0 0 0 0 0 0 0 0 0 0 0 0 0 0 0 0 0 0 0 0 0 0 0 0 0 0 0 0 0 0 0 0 0 0 0 0 0 0 0 0 0 0 0 0 0 0 0 0 0 2 0 0 0 0 0 0 0 0 0 0 0 0 0 0 0 0 0 0 0 0 0 0 0 0 0 0 0 0 0 0 0 0 0 0 0 0 0 0 0 0 0 0 0 0 0 0 0 0 0 0 0 0 0 0 0 1 0 0 0 0 0 0 0 1 0 0 0 0 0 0 0 0 0 0 0 0 0 1 0 0 0 0 0 0 0 0 0 0 0 0 0 0 0 0 0 0 0 0 0 0 0 0 0 0 0 0 0 0 0 0 0 0 0 0 0 0 0 0 0 0 0 0 0 0 0 0 0 0 1 0 0 0 0 0 0 0 0 0 0 0 0 0 0 0 0 0 0 0 0 0 0 0 0 0 0 0 0 0 0 0 0 0 0 0 0 0 0 0 0 0 1 0 0 0 0 0 0 0 0 0 0 0 0 0 0 0 0 0 0 0 0 0 0 0 0 0 0 0 0 0 0 0 0 0 0 0 0 0 0 0 0 0 0 0 0 0 0 0 0 0 0 0 0 0 0 0 0 0 0 0 0 0 0 0 0 0 0 0 0 0 0 0 0 0 0 0 0 0 0 0 0 0 0 0 0 0 0 0 0 0 0 0 0 0 0 0 0 0 0 0 0 0 0 0 0 0 4 0 0 0 0 0 0 0 0 0 0 0 0 0 1 0 0 0 0 0 0 0 0 0 0 0 0 0 0 0 0 0 0 0 0 0 0 0 0 0 0 0 0 0 0 0 0 0 1 0 0 0 0 0 0 0 0 0 0 0 0 0 0 0 0 0 0 0 0 0 0 0 0 0 0 0 0 0 0 0 0 0 0 0 0 0 0 0 1 0 0 0 0 0 0 0 0 0 0 0 0 0 0 0 0 0 0 0 0 0 1 0 0 0 0 0 0 0 0 0 0 0 0 0 0 0 0 0 0 0 0 0 0 0 0 0 0 0 0 0 0 0 0 0 0 0 1 0 0 0 0 0 0 0 1 0 0 0 0 0 0 0 0 0 0 0 0 0 0 0 0 0 0 0 0 0 0 0 0 0 0 0 0 0 0 0 0 0 0 0 0 0 0 0 0 0 0 0 0 0 0 0 0 0 0 0 0 0 0 0 0 0 0 0 0 0 0 1 0 0 0 0 0 0 0 0 0 0 0 0 1 0 0 0 0 0 0 0 0 0 0 0 0 0 0 0 0 0 0 0 0 0 0 0 0 0 0 0 0 0 0 0 0 0 0 0 0 0 0 0 0 0 0 0 0 0 0 0 0 0 0 0 0 0 0 0 0 0 0 0 0 0 0 0 0 0 0 0 0 0 0 0 0 1 0 0 0 0 0 0 0 0 0 0 0 0 0 0 0 0 0 0 0 0 0 0 0 0 0 0 0 0 0 0 0 0 0 0 0 0 0 0 0 0 0 0 0 0 0 0 0 0 0 0 0 0 0 2 0 0 0 0 0 0 0 0 1 0 0 0 0 0 0 0 0 0 0 0 0 0 0 0 0 0 0 0 0 0 0 0 0 0 0 0 2 0 0 0 0 0 0 0 0 0 0 0 0 1 0 0 0 0 0 0 1 0 0 0 0 0 1 0 0 0 0 0 0 0 0 0 0 0 0 0 0 0 0 0 0 0 0 0 0 0 0 0 0 0 0 0 0 0 0 0 0 0 0 0 0 0 0 0 0 0 0 0 0 0 0 0 0 0 0 0 0 0 1 0 0 0 0 0 0 0 0 0 0 0 1 0 0 0 0 0 0 0 0 0 0 0 0 0 0 0 0 0 0 0 0 0 0 0 0 0 0 0 0 0 0 0 0 0 0 0 0 0 0 0 0 0 0 0 0 0 0 0 0 0 0 0 0 0 0 0 0 0 0 0 0 0 0 0 0 0 1 0 0 0 0 0 0 0 0 0 0 0 0 0 0 0 0 0 0 0 0 0 0 0 0 0 0 0 0 0 0 0 0 0 0 0 0 0 0 0 0 0 0 0 0 0 0 0 0 0 0 0 0 0 0 0 0 0 0 0 0 0 0 0 0 0 0 0 0 0 0 0 0 0 0 0 0 0 0 0 0 0 0 0 0 0 0 0 0 0 0 0 0 1 0 0 0 0 0 0 0 0 0 0 1 0 0 1 0 0 0 0 0 0 0 0 0 0 0 0 0 0 0 0 0 0 0 0 0 0 0 0 0 0 0 0 0 0 0 0 0 0 0 0 0 0 0 0 0 0 0 0 0 0 0 0 0 0 0 0 0 0 0 0 0 0 0 0 0 0 0 0 0 0 0 0 0 0 0 0 0 0 0 0 0 0 0 0 0 0 0 0 0 0 0 0 0 1 0 0 0 0 0 0 0 0 1 0 1 0 0 0 0 0 0 0 0 0 0 0 0 0 0 0 0 0 0 0 0 0 0 0 0 0 0 0 0 0 0 0 0 0 0 0 1 0 0 0 0 0 0 1 0 0 0 0 0 0 0 0 0 0 0 0 0 0 0 0 0 1 0 0 0 0 0 0 0 0 0 0 0 0 0 0 0 0 0 0 0 0 0 0 0 0 0 0 0 0 0 0 0 0 0 1 0 0 0 0 0 0 0 0 0 0 0 1 0 0 0 0 0 0 0 0 0 0 0 0 0 0 0 0 0 0 0 0 0 0 0 0 3 0 0 1 0 0 0 0 0 0 0 0 0 0 0 0 0 0 0 0 0 0 0 0 0 0 0 0 0 0 0 0 0 0 0 0 0 0 0 0 0 0 1 0 0 0 0 0 0 0 0 0 0 0 0 0 0 0 0 0 0 0 0 0 0 0 0 0 0 0 0 0 0 0 0 0 0 0 0 0 0 0 0 0 0 0 0 0 1 0 0 0 0 0 0 0 "
     ]
    }
   ],
   "source": [
    "for vec in vectors[0]:\n",
    "    print(vec, end=\" \")"
   ]
  },
  {
   "cell_type": "code",
   "execution_count": 12,
   "metadata": {},
   "outputs": [
    {
     "data": {
      "text/plain": [
       "(1657, 1500)"
      ]
     },
     "execution_count": 12,
     "metadata": {},
     "output_type": "execute_result"
    }
   ],
   "source": [
    "vectors.shape"
   ]
  },
  {
   "cell_type": "code",
   "execution_count": 13,
   "metadata": {},
   "outputs": [],
   "source": [
    "X = vectors\n",
    "y = df.target"
   ]
  },
  {
   "cell_type": "code",
   "execution_count": 16,
   "metadata": {},
   "outputs": [
    {
     "data": {
      "text/plain": [
       "(array([[0, 0, 0, ..., 0, 0, 0],\n",
       "        [0, 0, 0, ..., 0, 0, 0],\n",
       "        [0, 0, 0, ..., 0, 0, 0],\n",
       "        ...,\n",
       "        [0, 0, 0, ..., 0, 0, 0],\n",
       "        [0, 0, 0, ..., 0, 0, 0],\n",
       "        [0, 0, 0, ..., 0, 0, 0]]),\n",
       " array([[0, 0, 0, ..., 0, 0, 0],\n",
       "        [0, 0, 0, ..., 0, 0, 0],\n",
       "        [0, 0, 0, ..., 0, 0, 0],\n",
       "        ...,\n",
       "        [0, 2, 0, ..., 0, 0, 0],\n",
       "        [0, 0, 0, ..., 0, 0, 0],\n",
       "        [0, 0, 0, ..., 0, 0, 0]]),\n",
       " 1425    0\n",
       " 319     1\n",
       " 452     1\n",
       " 1364    1\n",
       " 1110    1\n",
       "        ..\n",
       " 835     1\n",
       " 1216    1\n",
       " 1653    1\n",
       " 559     0\n",
       " 684     1\n",
       " Name: target, Length: 1325, dtype: int64)"
      ]
     },
     "execution_count": 16,
     "metadata": {},
     "output_type": "execute_result"
    }
   ],
   "source": [
    "from sklearn.naive_bayes import MultinomialNB\n",
    "from sklearn.model_selection import train_test_split\n",
    "\n",
    "X_train,X_test,y_train,y_test = train_test_split(X,y,test_size=0.2,random_state=0)\n",
    "\n",
    "(X_train,X_test,y_train)"
   ]
  },
  {
   "cell_type": "code",
   "execution_count": 75,
   "metadata": {},
   "outputs": [
    {
     "data": {
      "text/plain": [
       "array([1, 1, 1, 1, 1, 1, 1, 0, 1, 2, 0, 0, 0, 0, 1, 0, 1, 1, 0, 2, 1, 1,\n",
       "       1, 2, 2, 1, 2, 1, 1, 0, 1, 2, 1, 0, 2, 0, 0, 1, 1, 2, 2, 2, 1, 2,\n",
       "       1, 0, 1, 1, 1, 1, 2, 1, 2, 0, 2, 1, 0, 2, 2, 2, 2, 2, 2, 2, 2, 2,\n",
       "       0, 2, 1, 2, 2, 2, 0, 1, 0, 0, 0, 0, 0, 0, 0, 0, 1, 2, 0, 1, 0, 0,\n",
       "       1, 2, 2, 1, 1, 2, 2, 2, 2, 0, 1, 0, 0, 0, 0, 2, 2, 2, 2, 1, 2, 0,\n",
       "       1, 2, 2, 1, 0, 2, 2, 0, 0, 1, 2, 0, 0, 0, 0, 0, 0, 1, 0, 1, 0, 1,\n",
       "       1, 1, 1, 1, 2, 1, 1, 0, 2, 2, 1, 1, 2, 0, 0, 2, 2, 0, 0, 1, 1, 0,\n",
       "       2, 1, 0, 1, 0, 2, 0, 2, 2, 1, 1, 2, 0, 2, 1, 1, 1, 0, 2, 1, 1, 0,\n",
       "       1, 1, 1, 2, 2, 2, 1, 2, 1, 1, 2, 2, 0, 0, 2, 0, 1, 1, 0, 0, 1, 0,\n",
       "       1, 1, 2, 1, 0, 2, 1, 0, 1, 0, 0, 2, 0, 1, 0, 0, 1, 2, 0, 0, 2, 1,\n",
       "       0, 2, 0, 2, 2, 0, 1, 1, 1, 1, 2, 2, 2, 0, 1, 2, 1, 1, 0, 2, 1, 2,\n",
       "       2, 0, 0, 2, 2, 1, 2, 0, 0, 0, 1, 0, 0, 0, 0, 1, 1, 2, 2, 2, 0, 1,\n",
       "       1, 2, 0, 2, 2, 2, 0, 2, 2, 2, 0, 1, 0, 0, 2, 1, 1, 0, 2, 1, 2, 2,\n",
       "       1, 0, 2, 2, 0, 1, 1, 1, 1, 0, 1, 2, 2, 0, 2, 2, 0, 0, 2, 1, 0, 0,\n",
       "       2, 1, 1, 1, 2, 0, 1, 1, 0, 2, 2, 1, 2, 2, 2, 2, 2, 1, 2, 0, 0, 1,\n",
       "       2, 0])"
      ]
     },
     "execution_count": 75,
     "metadata": {},
     "output_type": "execute_result"
    }
   ],
   "source": [
    "model = MultinomialNB()\n",
    "\n",
    "model.fit(X_train, y_train)\n",
    "\n",
    "predictions = model.predict(X_test)\n",
    "\n",
    "predictions"
   ]
  },
  {
   "cell_type": "code",
   "execution_count": 72,
   "metadata": {},
   "outputs": [
    {
     "data": {
      "text/plain": [
       "array([2, 1, 0])"
      ]
     },
     "execution_count": 72,
     "metadata": {},
     "output_type": "execute_result"
    }
   ],
   "source": [
    "df.target.unique()"
   ]
  },
  {
   "cell_type": "code",
   "execution_count": 71,
   "metadata": {},
   "outputs": [
    {
     "data": {
      "text/plain": [
       "{0: 'alt.atheism', 1: 'comp.graphics', 2: 'sci.space'}"
      ]
     },
     "execution_count": 71,
     "metadata": {},
     "output_type": "execute_result"
    }
   ],
   "source": [
    "ls = {0: \"alt.atheism\",1:\"comp.graphics\",2:\"sci.space\"}\n",
    "ls"
   ]
  },
  {
   "cell_type": "code",
   "execution_count": 80,
   "metadata": {},
   "outputs": [
    {
     "name": "stdout",
     "output_type": "stream",
     "text": [
      "y_test: 1, category: comp.graphics, pred_target : 1,  predictions: comp.graphics\n",
      "y_test: 1, category: comp.graphics, pred_target : 1,  predictions: comp.graphics\n",
      "y_test: 1, category: comp.graphics, pred_target : 1,  predictions: comp.graphics\n",
      "y_test: 2, category: sci.space, pred_target : 1,  predictions: comp.graphics\n",
      "y_test: 1, category: comp.graphics, pred_target : 1,  predictions: comp.graphics\n",
      "y_test: 1, category: comp.graphics, pred_target : 1,  predictions: comp.graphics\n",
      "y_test: 1, category: comp.graphics, pred_target : 1,  predictions: comp.graphics\n",
      "y_test: 0, category: alt.atheism, pred_target : 0,  predictions: alt.atheism\n",
      "y_test: 1, category: comp.graphics, pred_target : 1,  predictions: comp.graphics\n",
      "y_test: 2, category: sci.space, pred_target : 2,  predictions: sci.space\n",
      "y_test: 0, category: alt.atheism, pred_target : 0,  predictions: alt.atheism\n",
      "y_test: 0, category: alt.atheism, pred_target : 0,  predictions: alt.atheism\n",
      "y_test: 0, category: alt.atheism, pred_target : 0,  predictions: alt.atheism\n",
      "y_test: 0, category: alt.atheism, pred_target : 0,  predictions: alt.atheism\n",
      "y_test: 1, category: comp.graphics, pred_target : 1,  predictions: comp.graphics\n",
      "y_test: 0, category: alt.atheism, pred_target : 0,  predictions: alt.atheism\n",
      "y_test: 1, category: comp.graphics, pred_target : 1,  predictions: comp.graphics\n",
      "y_test: 1, category: comp.graphics, pred_target : 1,  predictions: comp.graphics\n",
      "y_test: 0, category: alt.atheism, pred_target : 0,  predictions: alt.atheism\n",
      "y_test: 2, category: sci.space, pred_target : 2,  predictions: sci.space\n",
      "y_test: 1, category: comp.graphics, pred_target : 1,  predictions: comp.graphics\n",
      "y_test: 1, category: comp.graphics, pred_target : 1,  predictions: comp.graphics\n",
      "y_test: 1, category: comp.graphics, pred_target : 1,  predictions: comp.graphics\n",
      "y_test: 2, category: sci.space, pred_target : 2,  predictions: sci.space\n",
      "y_test: 2, category: sci.space, pred_target : 2,  predictions: sci.space\n",
      "y_test: 1, category: comp.graphics, pred_target : 1,  predictions: comp.graphics\n",
      "y_test: 2, category: sci.space, pred_target : 2,  predictions: sci.space\n",
      "y_test: 1, category: comp.graphics, pred_target : 1,  predictions: comp.graphics\n",
      "y_test: 1, category: comp.graphics, pred_target : 1,  predictions: comp.graphics\n",
      "y_test: 0, category: alt.atheism, pred_target : 0,  predictions: alt.atheism\n",
      "y_test: 1, category: comp.graphics, pred_target : 1,  predictions: comp.graphics\n",
      "y_test: 2, category: sci.space, pred_target : 2,  predictions: sci.space\n",
      "y_test: 1, category: comp.graphics, pred_target : 1,  predictions: comp.graphics\n",
      "y_test: 0, category: alt.atheism, pred_target : 0,  predictions: alt.atheism\n",
      "y_test: 2, category: sci.space, pred_target : 2,  predictions: sci.space\n",
      "y_test: 0, category: alt.atheism, pred_target : 0,  predictions: alt.atheism\n",
      "y_test: 0, category: alt.atheism, pred_target : 0,  predictions: alt.atheism\n",
      "y_test: 1, category: comp.graphics, pred_target : 1,  predictions: comp.graphics\n",
      "y_test: 1, category: comp.graphics, pred_target : 1,  predictions: comp.graphics\n",
      "y_test: 2, category: sci.space, pred_target : 2,  predictions: sci.space\n",
      "y_test: 2, category: sci.space, pred_target : 2,  predictions: sci.space\n",
      "y_test: 2, category: sci.space, pred_target : 2,  predictions: sci.space\n",
      "y_test: 1, category: comp.graphics, pred_target : 1,  predictions: comp.graphics\n",
      "y_test: 2, category: sci.space, pred_target : 2,  predictions: sci.space\n",
      "y_test: 1, category: comp.graphics, pred_target : 1,  predictions: comp.graphics\n",
      "y_test: 0, category: alt.atheism, pred_target : 0,  predictions: alt.atheism\n",
      "y_test: 1, category: comp.graphics, pred_target : 1,  predictions: comp.graphics\n",
      "y_test: 1, category: comp.graphics, pred_target : 1,  predictions: comp.graphics\n",
      "y_test: 1, category: comp.graphics, pred_target : 1,  predictions: comp.graphics\n",
      "y_test: 1, category: comp.graphics, pred_target : 1,  predictions: comp.graphics\n",
      "y_test: 0, category: alt.atheism, pred_target : 2,  predictions: sci.space\n",
      "y_test: 1, category: comp.graphics, pred_target : 1,  predictions: comp.graphics\n",
      "y_test: 2, category: sci.space, pred_target : 2,  predictions: sci.space\n",
      "y_test: 0, category: alt.atheism, pred_target : 0,  predictions: alt.atheism\n",
      "y_test: 1, category: comp.graphics, pred_target : 2,  predictions: sci.space\n",
      "y_test: 1, category: comp.graphics, pred_target : 1,  predictions: comp.graphics\n",
      "y_test: 0, category: alt.atheism, pred_target : 0,  predictions: alt.atheism\n",
      "y_test: 2, category: sci.space, pred_target : 2,  predictions: sci.space\n",
      "y_test: 2, category: sci.space, pred_target : 2,  predictions: sci.space\n",
      "y_test: 2, category: sci.space, pred_target : 2,  predictions: sci.space\n",
      "y_test: 2, category: sci.space, pred_target : 2,  predictions: sci.space\n",
      "y_test: 2, category: sci.space, pred_target : 2,  predictions: sci.space\n",
      "y_test: 2, category: sci.space, pred_target : 2,  predictions: sci.space\n",
      "y_test: 2, category: sci.space, pred_target : 2,  predictions: sci.space\n",
      "y_test: 2, category: sci.space, pred_target : 2,  predictions: sci.space\n",
      "y_test: 2, category: sci.space, pred_target : 2,  predictions: sci.space\n",
      "y_test: 2, category: sci.space, pred_target : 0,  predictions: alt.atheism\n",
      "y_test: 2, category: sci.space, pred_target : 2,  predictions: sci.space\n",
      "y_test: 1, category: comp.graphics, pred_target : 1,  predictions: comp.graphics\n",
      "y_test: 2, category: sci.space, pred_target : 2,  predictions: sci.space\n",
      "y_test: 2, category: sci.space, pred_target : 2,  predictions: sci.space\n",
      "y_test: 2, category: sci.space, pred_target : 2,  predictions: sci.space\n",
      "y_test: 0, category: alt.atheism, pred_target : 0,  predictions: alt.atheism\n",
      "y_test: 1, category: comp.graphics, pred_target : 1,  predictions: comp.graphics\n",
      "y_test: 0, category: alt.atheism, pred_target : 0,  predictions: alt.atheism\n",
      "y_test: 0, category: alt.atheism, pred_target : 0,  predictions: alt.atheism\n",
      "y_test: 0, category: alt.atheism, pred_target : 0,  predictions: alt.atheism\n",
      "y_test: 0, category: alt.atheism, pred_target : 0,  predictions: alt.atheism\n",
      "y_test: 0, category: alt.atheism, pred_target : 0,  predictions: alt.atheism\n",
      "y_test: 0, category: alt.atheism, pred_target : 0,  predictions: alt.atheism\n",
      "y_test: 0, category: alt.atheism, pred_target : 0,  predictions: alt.atheism\n",
      "y_test: 0, category: alt.atheism, pred_target : 0,  predictions: alt.atheism\n",
      "y_test: 1, category: comp.graphics, pred_target : 1,  predictions: comp.graphics\n",
      "y_test: 2, category: sci.space, pred_target : 2,  predictions: sci.space\n",
      "y_test: 0, category: alt.atheism, pred_target : 0,  predictions: alt.atheism\n",
      "y_test: 1, category: comp.graphics, pred_target : 1,  predictions: comp.graphics\n",
      "y_test: 0, category: alt.atheism, pred_target : 0,  predictions: alt.atheism\n",
      "y_test: 0, category: alt.atheism, pred_target : 0,  predictions: alt.atheism\n",
      "y_test: 1, category: comp.graphics, pred_target : 1,  predictions: comp.graphics\n",
      "y_test: 2, category: sci.space, pred_target : 2,  predictions: sci.space\n",
      "y_test: 2, category: sci.space, pred_target : 2,  predictions: sci.space\n",
      "y_test: 1, category: comp.graphics, pred_target : 1,  predictions: comp.graphics\n",
      "y_test: 1, category: comp.graphics, pred_target : 1,  predictions: comp.graphics\n",
      "y_test: 2, category: sci.space, pred_target : 2,  predictions: sci.space\n",
      "y_test: 2, category: sci.space, pred_target : 2,  predictions: sci.space\n",
      "y_test: 2, category: sci.space, pred_target : 2,  predictions: sci.space\n",
      "y_test: 2, category: sci.space, pred_target : 2,  predictions: sci.space\n",
      "y_test: 0, category: alt.atheism, pred_target : 0,  predictions: alt.atheism\n",
      "y_test: 1, category: comp.graphics, pred_target : 1,  predictions: comp.graphics\n",
      "y_test: 0, category: alt.atheism, pred_target : 0,  predictions: alt.atheism\n",
      "y_test: 0, category: alt.atheism, pred_target : 0,  predictions: alt.atheism\n",
      "y_test: 0, category: alt.atheism, pred_target : 0,  predictions: alt.atheism\n",
      "y_test: 0, category: alt.atheism, pred_target : 0,  predictions: alt.atheism\n",
      "y_test: 2, category: sci.space, pred_target : 2,  predictions: sci.space\n",
      "y_test: 2, category: sci.space, pred_target : 2,  predictions: sci.space\n",
      "y_test: 2, category: sci.space, pred_target : 2,  predictions: sci.space\n",
      "y_test: 2, category: sci.space, pred_target : 2,  predictions: sci.space\n",
      "y_test: 1, category: comp.graphics, pred_target : 1,  predictions: comp.graphics\n",
      "y_test: 2, category: sci.space, pred_target : 2,  predictions: sci.space\n",
      "y_test: 0, category: alt.atheism, pred_target : 0,  predictions: alt.atheism\n",
      "y_test: 1, category: comp.graphics, pred_target : 1,  predictions: comp.graphics\n",
      "y_test: 2, category: sci.space, pred_target : 2,  predictions: sci.space\n",
      "y_test: 2, category: sci.space, pred_target : 2,  predictions: sci.space\n",
      "y_test: 1, category: comp.graphics, pred_target : 1,  predictions: comp.graphics\n",
      "y_test: 0, category: alt.atheism, pred_target : 0,  predictions: alt.atheism\n",
      "y_test: 2, category: sci.space, pred_target : 2,  predictions: sci.space\n",
      "y_test: 2, category: sci.space, pred_target : 2,  predictions: sci.space\n",
      "y_test: 0, category: alt.atheism, pred_target : 0,  predictions: alt.atheism\n",
      "y_test: 0, category: alt.atheism, pred_target : 0,  predictions: alt.atheism\n",
      "y_test: 1, category: comp.graphics, pred_target : 1,  predictions: comp.graphics\n",
      "y_test: 2, category: sci.space, pred_target : 2,  predictions: sci.space\n",
      "y_test: 0, category: alt.atheism, pred_target : 0,  predictions: alt.atheism\n",
      "y_test: 0, category: alt.atheism, pred_target : 0,  predictions: alt.atheism\n",
      "y_test: 0, category: alt.atheism, pred_target : 0,  predictions: alt.atheism\n",
      "y_test: 0, category: alt.atheism, pred_target : 0,  predictions: alt.atheism\n",
      "y_test: 0, category: alt.atheism, pred_target : 0,  predictions: alt.atheism\n",
      "y_test: 0, category: alt.atheism, pred_target : 0,  predictions: alt.atheism\n",
      "y_test: 1, category: comp.graphics, pred_target : 1,  predictions: comp.graphics\n",
      "y_test: 0, category: alt.atheism, pred_target : 0,  predictions: alt.atheism\n",
      "y_test: 1, category: comp.graphics, pred_target : 1,  predictions: comp.graphics\n",
      "y_test: 0, category: alt.atheism, pred_target : 0,  predictions: alt.atheism\n",
      "y_test: 1, category: comp.graphics, pred_target : 1,  predictions: comp.graphics\n",
      "y_test: 1, category: comp.graphics, pred_target : 1,  predictions: comp.graphics\n",
      "y_test: 1, category: comp.graphics, pred_target : 1,  predictions: comp.graphics\n",
      "y_test: 1, category: comp.graphics, pred_target : 1,  predictions: comp.graphics\n",
      "y_test: 1, category: comp.graphics, pred_target : 1,  predictions: comp.graphics\n",
      "y_test: 2, category: sci.space, pred_target : 2,  predictions: sci.space\n",
      "y_test: 2, category: sci.space, pred_target : 1,  predictions: comp.graphics\n",
      "y_test: 1, category: comp.graphics, pred_target : 1,  predictions: comp.graphics\n",
      "y_test: 0, category: alt.atheism, pred_target : 0,  predictions: alt.atheism\n",
      "y_test: 2, category: sci.space, pred_target : 2,  predictions: sci.space\n",
      "y_test: 2, category: sci.space, pred_target : 2,  predictions: sci.space\n",
      "y_test: 1, category: comp.graphics, pred_target : 1,  predictions: comp.graphics\n",
      "y_test: 1, category: comp.graphics, pred_target : 1,  predictions: comp.graphics\n",
      "y_test: 2, category: sci.space, pred_target : 2,  predictions: sci.space\n",
      "y_test: 0, category: alt.atheism, pred_target : 0,  predictions: alt.atheism\n",
      "y_test: 0, category: alt.atheism, pred_target : 0,  predictions: alt.atheism\n",
      "y_test: 2, category: sci.space, pred_target : 2,  predictions: sci.space\n",
      "y_test: 2, category: sci.space, pred_target : 2,  predictions: sci.space\n",
      "y_test: 0, category: alt.atheism, pred_target : 0,  predictions: alt.atheism\n",
      "y_test: 0, category: alt.atheism, pred_target : 0,  predictions: alt.atheism\n",
      "y_test: 1, category: comp.graphics, pred_target : 1,  predictions: comp.graphics\n",
      "y_test: 1, category: comp.graphics, pred_target : 1,  predictions: comp.graphics\n",
      "y_test: 0, category: alt.atheism, pred_target : 0,  predictions: alt.atheism\n",
      "y_test: 2, category: sci.space, pred_target : 2,  predictions: sci.space\n",
      "y_test: 1, category: comp.graphics, pred_target : 1,  predictions: comp.graphics\n",
      "y_test: 0, category: alt.atheism, pred_target : 0,  predictions: alt.atheism\n",
      "y_test: 1, category: comp.graphics, pred_target : 1,  predictions: comp.graphics\n",
      "y_test: 0, category: alt.atheism, pred_target : 0,  predictions: alt.atheism\n",
      "y_test: 2, category: sci.space, pred_target : 2,  predictions: sci.space\n",
      "y_test: 2, category: sci.space, pred_target : 0,  predictions: alt.atheism\n",
      "y_test: 2, category: sci.space, pred_target : 2,  predictions: sci.space\n",
      "y_test: 2, category: sci.space, pred_target : 2,  predictions: sci.space\n",
      "y_test: 1, category: comp.graphics, pred_target : 1,  predictions: comp.graphics\n",
      "y_test: 1, category: comp.graphics, pred_target : 1,  predictions: comp.graphics\n",
      "y_test: 2, category: sci.space, pred_target : 2,  predictions: sci.space\n",
      "y_test: 0, category: alt.atheism, pred_target : 0,  predictions: alt.atheism\n",
      "y_test: 2, category: sci.space, pred_target : 2,  predictions: sci.space\n",
      "y_test: 1, category: comp.graphics, pred_target : 1,  predictions: comp.graphics\n",
      "y_test: 1, category: comp.graphics, pred_target : 1,  predictions: comp.graphics\n",
      "y_test: 1, category: comp.graphics, pred_target : 1,  predictions: comp.graphics\n",
      "y_test: 0, category: alt.atheism, pred_target : 0,  predictions: alt.atheism\n",
      "y_test: 2, category: sci.space, pred_target : 2,  predictions: sci.space\n",
      "y_test: 0, category: alt.atheism, pred_target : 1,  predictions: comp.graphics\n",
      "y_test: 1, category: comp.graphics, pred_target : 1,  predictions: comp.graphics\n",
      "y_test: 0, category: alt.atheism, pred_target : 0,  predictions: alt.atheism\n",
      "y_test: 1, category: comp.graphics, pred_target : 1,  predictions: comp.graphics\n",
      "y_test: 1, category: comp.graphics, pred_target : 1,  predictions: comp.graphics\n",
      "y_test: 1, category: comp.graphics, pred_target : 1,  predictions: comp.graphics\n",
      "y_test: 2, category: sci.space, pred_target : 2,  predictions: sci.space\n",
      "y_test: 2, category: sci.space, pred_target : 2,  predictions: sci.space\n",
      "y_test: 2, category: sci.space, pred_target : 2,  predictions: sci.space\n",
      "y_test: 1, category: comp.graphics, pred_target : 1,  predictions: comp.graphics\n",
      "y_test: 2, category: sci.space, pred_target : 2,  predictions: sci.space\n",
      "y_test: 1, category: comp.graphics, pred_target : 1,  predictions: comp.graphics\n",
      "y_test: 1, category: comp.graphics, pred_target : 1,  predictions: comp.graphics\n",
      "y_test: 2, category: sci.space, pred_target : 2,  predictions: sci.space\n",
      "y_test: 2, category: sci.space, pred_target : 2,  predictions: sci.space\n",
      "y_test: 0, category: alt.atheism, pred_target : 0,  predictions: alt.atheism\n",
      "y_test: 0, category: alt.atheism, pred_target : 0,  predictions: alt.atheism\n",
      "y_test: 2, category: sci.space, pred_target : 2,  predictions: sci.space\n",
      "y_test: 0, category: alt.atheism, pred_target : 0,  predictions: alt.atheism\n",
      "y_test: 1, category: comp.graphics, pred_target : 1,  predictions: comp.graphics\n",
      "y_test: 1, category: comp.graphics, pred_target : 1,  predictions: comp.graphics\n",
      "y_test: 0, category: alt.atheism, pred_target : 0,  predictions: alt.atheism\n",
      "y_test: 0, category: alt.atheism, pred_target : 0,  predictions: alt.atheism\n",
      "y_test: 1, category: comp.graphics, pred_target : 1,  predictions: comp.graphics\n",
      "y_test: 0, category: alt.atheism, pred_target : 0,  predictions: alt.atheism\n",
      "y_test: 1, category: comp.graphics, pred_target : 1,  predictions: comp.graphics\n",
      "y_test: 1, category: comp.graphics, pred_target : 1,  predictions: comp.graphics\n",
      "y_test: 2, category: sci.space, pred_target : 2,  predictions: sci.space\n",
      "y_test: 1, category: comp.graphics, pred_target : 1,  predictions: comp.graphics\n",
      "y_test: 0, category: alt.atheism, pred_target : 0,  predictions: alt.atheism\n",
      "y_test: 2, category: sci.space, pred_target : 2,  predictions: sci.space\n",
      "y_test: 1, category: comp.graphics, pred_target : 1,  predictions: comp.graphics\n",
      "y_test: 0, category: alt.atheism, pred_target : 0,  predictions: alt.atheism\n",
      "y_test: 1, category: comp.graphics, pred_target : 1,  predictions: comp.graphics\n",
      "y_test: 0, category: alt.atheism, pred_target : 0,  predictions: alt.atheism\n",
      "y_test: 0, category: alt.atheism, pred_target : 0,  predictions: alt.atheism\n",
      "y_test: 2, category: sci.space, pred_target : 2,  predictions: sci.space\n",
      "y_test: 2, category: sci.space, pred_target : 0,  predictions: alt.atheism\n",
      "y_test: 1, category: comp.graphics, pred_target : 1,  predictions: comp.graphics\n",
      "y_test: 0, category: alt.atheism, pred_target : 0,  predictions: alt.atheism\n",
      "y_test: 0, category: alt.atheism, pred_target : 0,  predictions: alt.atheism\n",
      "y_test: 1, category: comp.graphics, pred_target : 1,  predictions: comp.graphics\n",
      "y_test: 2, category: sci.space, pred_target : 2,  predictions: sci.space\n",
      "y_test: 0, category: alt.atheism, pred_target : 0,  predictions: alt.atheism\n",
      "y_test: 0, category: alt.atheism, pred_target : 0,  predictions: alt.atheism\n",
      "y_test: 2, category: sci.space, pred_target : 2,  predictions: sci.space\n",
      "y_test: 1, category: comp.graphics, pred_target : 1,  predictions: comp.graphics\n",
      "y_test: 0, category: alt.atheism, pred_target : 0,  predictions: alt.atheism\n",
      "y_test: 2, category: sci.space, pred_target : 2,  predictions: sci.space\n",
      "y_test: 0, category: alt.atheism, pred_target : 0,  predictions: alt.atheism\n",
      "y_test: 2, category: sci.space, pred_target : 2,  predictions: sci.space\n",
      "y_test: 2, category: sci.space, pred_target : 2,  predictions: sci.space\n",
      "y_test: 0, category: alt.atheism, pred_target : 0,  predictions: alt.atheism\n",
      "y_test: 1, category: comp.graphics, pred_target : 1,  predictions: comp.graphics\n",
      "y_test: 1, category: comp.graphics, pred_target : 1,  predictions: comp.graphics\n",
      "y_test: 1, category: comp.graphics, pred_target : 1,  predictions: comp.graphics\n",
      "y_test: 1, category: comp.graphics, pred_target : 1,  predictions: comp.graphics\n",
      "y_test: 2, category: sci.space, pred_target : 2,  predictions: sci.space\n",
      "y_test: 2, category: sci.space, pred_target : 2,  predictions: sci.space\n",
      "y_test: 2, category: sci.space, pred_target : 2,  predictions: sci.space\n",
      "y_test: 0, category: alt.atheism, pred_target : 0,  predictions: alt.atheism\n",
      "y_test: 1, category: comp.graphics, pred_target : 1,  predictions: comp.graphics\n",
      "y_test: 2, category: sci.space, pred_target : 2,  predictions: sci.space\n",
      "y_test: 1, category: comp.graphics, pred_target : 1,  predictions: comp.graphics\n",
      "y_test: 2, category: sci.space, pred_target : 1,  predictions: comp.graphics\n",
      "y_test: 0, category: alt.atheism, pred_target : 0,  predictions: alt.atheism\n",
      "y_test: 2, category: sci.space, pred_target : 2,  predictions: sci.space\n",
      "y_test: 1, category: comp.graphics, pred_target : 1,  predictions: comp.graphics\n",
      "y_test: 2, category: sci.space, pred_target : 2,  predictions: sci.space\n",
      "y_test: 2, category: sci.space, pred_target : 2,  predictions: sci.space\n",
      "y_test: 0, category: alt.atheism, pred_target : 0,  predictions: alt.atheism\n",
      "y_test: 0, category: alt.atheism, pred_target : 0,  predictions: alt.atheism\n",
      "y_test: 2, category: sci.space, pred_target : 2,  predictions: sci.space\n",
      "y_test: 2, category: sci.space, pred_target : 2,  predictions: sci.space\n",
      "y_test: 1, category: comp.graphics, pred_target : 1,  predictions: comp.graphics\n",
      "y_test: 1, category: comp.graphics, pred_target : 2,  predictions: sci.space\n",
      "y_test: 0, category: alt.atheism, pred_target : 0,  predictions: alt.atheism\n",
      "y_test: 0, category: alt.atheism, pred_target : 0,  predictions: alt.atheism\n",
      "y_test: 0, category: alt.atheism, pred_target : 0,  predictions: alt.atheism\n",
      "y_test: 2, category: sci.space, pred_target : 1,  predictions: comp.graphics\n",
      "y_test: 0, category: alt.atheism, pred_target : 0,  predictions: alt.atheism\n",
      "y_test: 0, category: alt.atheism, pred_target : 0,  predictions: alt.atheism\n",
      "y_test: 0, category: alt.atheism, pred_target : 0,  predictions: alt.atheism\n",
      "y_test: 1, category: comp.graphics, pred_target : 0,  predictions: alt.atheism\n",
      "y_test: 1, category: comp.graphics, pred_target : 1,  predictions: comp.graphics\n",
      "y_test: 1, category: comp.graphics, pred_target : 1,  predictions: comp.graphics\n",
      "y_test: 2, category: sci.space, pred_target : 2,  predictions: sci.space\n",
      "y_test: 2, category: sci.space, pred_target : 2,  predictions: sci.space\n",
      "y_test: 2, category: sci.space, pred_target : 2,  predictions: sci.space\n",
      "y_test: 0, category: alt.atheism, pred_target : 0,  predictions: alt.atheism\n",
      "y_test: 1, category: comp.graphics, pred_target : 1,  predictions: comp.graphics\n",
      "y_test: 1, category: comp.graphics, pred_target : 1,  predictions: comp.graphics\n",
      "y_test: 2, category: sci.space, pred_target : 2,  predictions: sci.space\n",
      "y_test: 0, category: alt.atheism, pred_target : 0,  predictions: alt.atheism\n",
      "y_test: 2, category: sci.space, pred_target : 2,  predictions: sci.space\n",
      "y_test: 2, category: sci.space, pred_target : 2,  predictions: sci.space\n",
      "y_test: 2, category: sci.space, pred_target : 2,  predictions: sci.space\n",
      "y_test: 1, category: comp.graphics, pred_target : 0,  predictions: alt.atheism\n",
      "y_test: 2, category: sci.space, pred_target : 2,  predictions: sci.space\n",
      "y_test: 2, category: sci.space, pred_target : 2,  predictions: sci.space\n",
      "y_test: 2, category: sci.space, pred_target : 2,  predictions: sci.space\n",
      "y_test: 0, category: alt.atheism, pred_target : 0,  predictions: alt.atheism\n",
      "y_test: 1, category: comp.graphics, pred_target : 1,  predictions: comp.graphics\n",
      "y_test: 0, category: alt.atheism, pred_target : 0,  predictions: alt.atheism\n",
      "y_test: 0, category: alt.atheism, pred_target : 0,  predictions: alt.atheism\n",
      "y_test: 0, category: alt.atheism, pred_target : 2,  predictions: sci.space\n",
      "y_test: 1, category: comp.graphics, pred_target : 1,  predictions: comp.graphics\n",
      "y_test: 1, category: comp.graphics, pred_target : 1,  predictions: comp.graphics\n",
      "y_test: 0, category: alt.atheism, pred_target : 0,  predictions: alt.atheism\n",
      "y_test: 2, category: sci.space, pred_target : 2,  predictions: sci.space\n",
      "y_test: 1, category: comp.graphics, pred_target : 1,  predictions: comp.graphics\n",
      "y_test: 2, category: sci.space, pred_target : 2,  predictions: sci.space\n",
      "y_test: 2, category: sci.space, pred_target : 2,  predictions: sci.space\n",
      "y_test: 1, category: comp.graphics, pred_target : 1,  predictions: comp.graphics\n",
      "y_test: 0, category: alt.atheism, pred_target : 0,  predictions: alt.atheism\n",
      "y_test: 2, category: sci.space, pred_target : 2,  predictions: sci.space\n",
      "y_test: 2, category: sci.space, pred_target : 2,  predictions: sci.space\n",
      "y_test: 0, category: alt.atheism, pred_target : 0,  predictions: alt.atheism\n",
      "y_test: 1, category: comp.graphics, pred_target : 1,  predictions: comp.graphics\n",
      "y_test: 1, category: comp.graphics, pred_target : 1,  predictions: comp.graphics\n",
      "y_test: 1, category: comp.graphics, pred_target : 1,  predictions: comp.graphics\n",
      "y_test: 1, category: comp.graphics, pred_target : 1,  predictions: comp.graphics\n",
      "y_test: 0, category: alt.atheism, pred_target : 0,  predictions: alt.atheism\n",
      "y_test: 1, category: comp.graphics, pred_target : 1,  predictions: comp.graphics\n",
      "y_test: 2, category: sci.space, pred_target : 2,  predictions: sci.space\n",
      "y_test: 2, category: sci.space, pred_target : 2,  predictions: sci.space\n",
      "y_test: 0, category: alt.atheism, pred_target : 0,  predictions: alt.atheism\n",
      "y_test: 2, category: sci.space, pred_target : 2,  predictions: sci.space\n",
      "y_test: 2, category: sci.space, pred_target : 2,  predictions: sci.space\n",
      "y_test: 0, category: alt.atheism, pred_target : 0,  predictions: alt.atheism\n",
      "y_test: 0, category: alt.atheism, pred_target : 0,  predictions: alt.atheism\n",
      "y_test: 2, category: sci.space, pred_target : 2,  predictions: sci.space\n",
      "y_test: 1, category: comp.graphics, pred_target : 1,  predictions: comp.graphics\n",
      "y_test: 0, category: alt.atheism, pred_target : 0,  predictions: alt.atheism\n",
      "y_test: 0, category: alt.atheism, pred_target : 0,  predictions: alt.atheism\n",
      "y_test: 2, category: sci.space, pred_target : 2,  predictions: sci.space\n",
      "y_test: 1, category: comp.graphics, pred_target : 1,  predictions: comp.graphics\n",
      "y_test: 1, category: comp.graphics, pred_target : 1,  predictions: comp.graphics\n",
      "y_test: 1, category: comp.graphics, pred_target : 1,  predictions: comp.graphics\n",
      "y_test: 2, category: sci.space, pred_target : 2,  predictions: sci.space\n",
      "y_test: 0, category: alt.atheism, pred_target : 0,  predictions: alt.atheism\n",
      "y_test: 1, category: comp.graphics, pred_target : 1,  predictions: comp.graphics\n",
      "y_test: 1, category: comp.graphics, pred_target : 1,  predictions: comp.graphics\n",
      "y_test: 0, category: alt.atheism, pred_target : 0,  predictions: alt.atheism\n",
      "y_test: 2, category: sci.space, pred_target : 2,  predictions: sci.space\n",
      "y_test: 2, category: sci.space, pred_target : 2,  predictions: sci.space\n",
      "y_test: 1, category: comp.graphics, pred_target : 1,  predictions: comp.graphics\n",
      "y_test: 2, category: sci.space, pred_target : 2,  predictions: sci.space\n",
      "y_test: 2, category: sci.space, pred_target : 2,  predictions: sci.space\n",
      "y_test: 2, category: sci.space, pred_target : 2,  predictions: sci.space\n",
      "y_test: 2, category: sci.space, pred_target : 2,  predictions: sci.space\n",
      "y_test: 2, category: sci.space, pred_target : 2,  predictions: sci.space\n",
      "y_test: 1, category: comp.graphics, pred_target : 1,  predictions: comp.graphics\n",
      "y_test: 2, category: sci.space, pred_target : 2,  predictions: sci.space\n",
      "y_test: 0, category: alt.atheism, pred_target : 0,  predictions: alt.atheism\n",
      "y_test: 0, category: alt.atheism, pred_target : 0,  predictions: alt.atheism\n",
      "y_test: 1, category: comp.graphics, pred_target : 1,  predictions: comp.graphics\n",
      "y_test: 2, category: sci.space, pred_target : 2,  predictions: sci.space\n",
      "y_test: 1, category: comp.graphics, pred_target : 0,  predictions: alt.atheism\n"
     ]
    }
   ],
   "source": [
    "# Assuming y_test and predictions are iterables of the same length\n",
    "for y, pred in zip(y_test, predictions):\n",
    "    print(f\"y_test: {y}, category: {ls.get(y)}, pred_target : {pred},  predictions: {ls.get(pred)}\")"
   ]
  },
  {
   "cell_type": "code",
   "execution_count": 28,
   "metadata": {},
   "outputs": [
    {
     "data": {
      "text/plain": [
       "array([[ 99,   1,   2],\n",
       "       [  3, 108,   2],\n",
       "       [  3,   4, 110]])"
      ]
     },
     "execution_count": 28,
     "metadata": {},
     "output_type": "execute_result"
    }
   ],
   "source": [
    "from sklearn.metrics import confusion_matrix, accuracy_score,classification_report\n",
    "cm = confusion_matrix(y_test,predictions)\n",
    "cm"
   ]
  },
  {
   "cell_type": "code",
   "execution_count": 32,
   "metadata": {},
   "outputs": [
    {
     "name": "stdout",
     "output_type": "stream",
     "text": [
      "cr:               precision    recall  f1-score   support\n",
      "\n",
      "           0       0.94      0.97      0.96       102\n",
      "           1       0.96      0.96      0.96       113\n",
      "           2       0.96      0.94      0.95       117\n",
      "\n",
      "    accuracy                           0.95       332\n",
      "   macro avg       0.95      0.96      0.95       332\n",
      "weighted avg       0.96      0.95      0.95       332\n",
      "\n",
      "accuracy: 0.9548192771084337\n"
     ]
    }
   ],
   "source": [
    "cr = classification_report(y_test,predictions)\n",
    "print(f\"cr: {cr}\")\n",
    "accuracy = accuracy_score(y_test,predictions)\n",
    "print(f\"accuracy: {accuracy}\")"
   ]
  },
  {
   "cell_type": "code",
   "execution_count": null,
   "metadata": {},
   "outputs": [],
   "source": []
  }
 ],
 "metadata": {
  "kernelspec": {
   "display_name": "Python 3",
   "language": "python",
   "name": "python3"
  },
  "language_info": {
   "codemirror_mode": {
    "name": "ipython",
    "version": 3
   },
   "file_extension": ".py",
   "mimetype": "text/x-python",
   "name": "python",
   "nbconvert_exporter": "python",
   "pygments_lexer": "ipython3",
   "version": "3.12.2"
  }
 },
 "nbformat": 4,
 "nbformat_minor": 2
}
